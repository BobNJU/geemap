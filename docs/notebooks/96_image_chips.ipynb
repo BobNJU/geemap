{
 "cells": [
  {
   "cell_type": "markdown",
   "id": "0",
   "metadata": {},
   "source": [
    "## How to export thousands of image chips from Earth Engine in a few minutes\n",
    "\n",
    "This source code of this notebook was adopted from the Medium post - [Fast(er) Downloads](https://gorelick.medium.com/fast-er-downloads-a2abd512aa26) by Noel Gorelick. Credits to Noel.  \n",
    "\n",
    "Due to the [limitation](https://docs.python.org/3/library/multiprocessing.html) of the [multiprocessing](https://docs.python.org/3/library/multiprocessing.html) package, the functionality of this notebook can only be run in the top-level. Therefore, it could not be implemented as a function under geemap. \n",
    "\n",
    "### Install packages\n",
    "\n",
    "Uncomment the following line to install the required packages."
   ]
  },
  {
   "cell_type": "code",
   "execution_count": null,
   "id": "1",
   "metadata": {},
   "outputs": [
    {
     "name": "stdout",
     "output_type": "stream",
     "text": [
      "Requirement already satisfied: retry in c:\\users\\zhu\\.conda\\envs\\gee\\lib\\site-packages (0.9.2)\n",
      "Requirement already satisfied: decorator>=3.4.2 in c:\\users\\zhu\\.conda\\envs\\gee\\lib\\site-packages (from retry) (5.1.1)\n",
      "Requirement already satisfied: py<2.0.0,>=1.4.26 in c:\\users\\zhu\\.conda\\envs\\gee\\lib\\site-packages (from retry) (1.11.0)\n"
     ]
    }
   ],
   "source": [
    "# !pip install  geemap retry"
   ]
  },
  {
   "cell_type": "markdown",
   "id": "ac2ee9d4",
   "metadata": {},
   "source": [
    "```\n",
    "os.environ['HTTP_PROXY'] = \"http://127.0.0.1:7890\"\n",
    "os.environ['HTTPS_PROXY'] = \"http://127.0.0.1:7890\"\n",
    "os.environ['all_proxy'] = 'socks5://127.0.0.1:7890'\n",
    "os.environ['CURL_CA_BUNDLE'] = ''\n",
    "\n",
    "ee.Authenticate()\n",
    "ee.Initialize(project='zhuxiaobo')\n",
    "```"
   ]
  },
  {
   "cell_type": "markdown",
   "id": "2",
   "metadata": {},
   "source": [
    "### Import libraries"
   ]
  },
  {
   "cell_type": "code",
   "execution_count": 1,
   "id": "3",
   "metadata": {},
   "outputs": [],
   "source": [
    "import ee\n",
    "import geemap\n",
    "import logging\n",
    "import multiprocessing\n",
    "import os\n",
    "import requests\n",
    "import shutil\n",
    "from retry import retry\n",
    "from joblib import Parallel, delayed\n",
    "\n",
    "import geopandas as gpd\n",
    "from shapely.geometry import Point, Polygon\n",
    "geemap.set_proxy(port=7890)"
   ]
  },
  {
   "cell_type": "markdown",
   "id": "4",
   "metadata": {},
   "source": [
    "### Initialize GEE to use the high-volume endpoint\n",
    "\n",
    "- [high-volume endpoint](https://developers.google.com/earth-engine/cloud/highvolume)"
   ]
  },
  {
   "cell_type": "code",
   "execution_count": 2,
   "id": "5",
   "metadata": {},
   "outputs": [
    {
     "data": {
      "text/html": [
       "\n",
       "            <style>\n",
       "                .geemap-dark {\n",
       "                    --jp-widgets-color: white;\n",
       "                    --jp-widgets-label-color: white;\n",
       "                    --jp-ui-font-color1: white;\n",
       "                    --jp-layout-color2: #454545;\n",
       "                    background-color: #383838;\n",
       "                }\n",
       "\n",
       "                .geemap-dark .jupyter-button {\n",
       "                    --jp-layout-color3: #383838;\n",
       "                }\n",
       "\n",
       "                .geemap-colab {\n",
       "                    background-color: var(--colab-primary-surface-color, white);\n",
       "                }\n",
       "\n",
       "                .geemap-colab .jupyter-button {\n",
       "                    --jp-layout-color3: var(--colab-primary-surface-color, white);\n",
       "                }\n",
       "            </style>\n",
       "            "
      ],
      "text/plain": [
       "<IPython.core.display.HTML object>"
      ]
     },
     "metadata": {},
     "output_type": "display_data"
    }
   ],
   "source": [
    "ee.Initialize(opt_url=\"https://earthengine-highvolume.googleapis.com\")"
   ]
  },
  {
   "cell_type": "markdown",
   "id": "6",
   "metadata": {},
   "source": [
    "### Create an interactive map"
   ]
  },
  {
   "cell_type": "code",
   "execution_count": 188,
   "id": "7",
   "metadata": {},
   "outputs": [
    {
     "data": {
      "text/html": [
       "\n",
       "            <style>\n",
       "                .geemap-dark {\n",
       "                    --jp-widgets-color: white;\n",
       "                    --jp-widgets-label-color: white;\n",
       "                    --jp-ui-font-color1: white;\n",
       "                    --jp-layout-color2: #454545;\n",
       "                    background-color: #383838;\n",
       "                }\n",
       "\n",
       "                .geemap-dark .jupyter-button {\n",
       "                    --jp-layout-color3: #383838;\n",
       "                }\n",
       "\n",
       "                .geemap-colab {\n",
       "                    background-color: var(--colab-primary-surface-color, white);\n",
       "                }\n",
       "\n",
       "                .geemap-colab .jupyter-button {\n",
       "                    --jp-layout-color3: var(--colab-primary-surface-color, white);\n",
       "                }\n",
       "            </style>\n",
       "            "
      ],
      "text/plain": [
       "<IPython.core.display.HTML object>"
      ]
     },
     "metadata": {},
     "output_type": "display_data"
    },
    {
     "data": {
      "application/vnd.jupyter.widget-view+json": {
       "model_id": "022dfe4b5a824a01985eb6e96bc2ad71",
       "version_major": 2,
       "version_minor": 0
      },
      "text/plain": [
       "Map(center=[0, 0], controls=(WidgetControl(options=['position', 'transparent_bg'], widget=SearchDataGUI(childr…"
      ]
     },
     "execution_count": 188,
     "metadata": {},
     "output_type": "execute_result"
    }
   ],
   "source": [
    "Map = geemap.Map(layout={'height': '600px'})\n",
    "\n",
    "Map"
   ]
  },
  {
   "cell_type": "markdown",
   "id": "8",
   "metadata": {},
   "source": [
    "### Define the Region of Interest (ROI)\n",
    "\n",
    "You can use the drawing tools on the map to draw an ROI, then you can use `Map.user_roi` to retrieve the geometry. Alternatively, you can define the ROI as an ee.Geometry as shown below."
   ]
  },
  {
   "cell_type": "code",
   "execution_count": 290,
   "id": "04e0617e",
   "metadata": {},
   "outputs": [
    {
     "data": {
      "text/html": [
       "\n",
       "            <style>\n",
       "                .geemap-dark {\n",
       "                    --jp-widgets-color: white;\n",
       "                    --jp-widgets-label-color: white;\n",
       "                    --jp-ui-font-color1: white;\n",
       "                    --jp-layout-color2: #454545;\n",
       "                    background-color: #383838;\n",
       "                }\n",
       "\n",
       "                .geemap-dark .jupyter-button {\n",
       "                    --jp-layout-color3: #383838;\n",
       "                }\n",
       "\n",
       "                .geemap-colab {\n",
       "                    background-color: var(--colab-primary-surface-color, white);\n",
       "                }\n",
       "\n",
       "                .geemap-colab .jupyter-button {\n",
       "                    --jp-layout-color3: var(--colab-primary-surface-color, white);\n",
       "                }\n",
       "            </style>\n",
       "            "
      ],
      "text/plain": [
       "<IPython.core.display.HTML object>"
      ]
     },
     "metadata": {},
     "output_type": "display_data"
    }
   ],
   "source": [
    "# ID = '20181007T020649_20181007T021611_T52SDD'\n",
    "# ID = '20181007T020649_20181007T021611_T52SEF'\n",
    "# ID = '20181007T020649_20181007T021611_T52SEE'\n",
    "ID = '20181014T015649_20181014T015649_T52SGF'\n",
    "ID = '20230604T013659_20230604T014516_T53SMT'\n",
    "ID = '20230604T013659_20230604T014516_T53SNU'\n",
    "ID = '20230619T013701_20230619T013709_T53SMU'\n",
    "ID = '20230629T013701_20230629T014140_T53SMT'\n",
    "ID = '20230702T014651_20230702T015725_T53SKT'\n",
    "ID = '20230722T014651_20230722T015635_T53SKT'\n",
    "ID = '20230717T014659_20230717T015534_T53SMV'\n",
    "ID = '20230821T014701_20230821T015532_T53SNV'\n",
    "ID = '20220927T013659_20220927T014529_T53SQU'\n",
    "ID = '20220927T013659_20220927T014529_T53SPU'\n",
    "ID = '20220805T012659_20220805T013242_T54SUJ'\n",
    "ID = '20220817T011711_20220817T012443_T54TYN'\n",
    "ID = '20220822T011659_20220822T011653_T54TYN'\n",
    "ID = '20220822T011659_20220822T011653_T54TYM'\n",
    "ID = '20220825T012659_20220825T013238_T54TWM'\n",
    "ID = '20210719T013701_20210719T014459_T53SPB'\n",
    "ID = '20210719T013701_20210719T014459_T53SNV'\n",
    "ID = '20210714T013659_20210714T013655_T53SNV'\n",
    "ID = '20210724T013659_20210724T013655_T53SNA'\n",
    "ID = '20160904T161342_20160904T162740_T16PCC' #HOG\n",
    "ID = '20200913T160911_20200913T162053_T16PCC' #HOG\n",
    "ID = '20200918T160839_20200918T161640_T16PCC' #HOG\n",
    "\n",
    "ID = '20180911T152629_20180911T152630_T18QYF' #HT\n",
    "ID = '20180926T152641_20180926T152747_T18QYF' #HT\n",
    "ID = '20220707T152651_20220707T152652_T18QYF' #HT\n",
    "ID = '20220722T152649_20220722T152644_T18QYF' #HT\n",
    "ID = '20220717T152651_20220717T152651_T18QYF' #HT\n",
    "\n",
    "ID = '20230313T021531_20230313T022730_T50LKR' #Bali\n",
    "\n",
    "ID = '20200123T031021_20200123T032120_T48MWU' #Java West\n",
    "ID = '20200212T030831_20200212T031435_T48MWU' #Java West\n",
    "\n",
    "JSROI =       ee.Geometry.MultiPolygon(\n",
    "        [[[[105.33686472767602, -6.046645062507107],\n",
    "           [105.33686472767602, -6.080102467150699],\n",
    "           [105.36536051625023, -6.080102467150699],\n",
    "           [105.36536051625023, -6.046645062507107]]],\n",
    "         [[[105.42166544789086, -5.987918906320247],\n",
    "           [105.42166544789086, -6.028720600803315],\n",
    "           [105.4405481993557, -6.028720600803315],\n",
    "           [105.4405481993557, -5.987918906320247]]],\n",
    "         [[[105.39196802967797, -5.980236237322712],\n",
    "           [105.39196802967797, -6.005503275101339],\n",
    "           [105.4185755431057, -6.005503275101339],\n",
    "           [105.4185755431057, -5.980236237322712]]]])"
   ]
  },
  {
   "cell_type": "markdown",
   "id": "956475f9",
   "metadata": {},
   "source": [
    "### Set parameters\n",
    "\n",
    "If you want the exported images to have coordinate system, change `format` to `GEO_TIFF`. Otherwise, you can use `png` or `jpg` formats."
   ]
  },
  {
   "cell_type": "markdown",
   "id": "10",
   "metadata": {},
   "source": [
    "### Define the image source\n"
   ]
  },
  {
   "cell_type": "markdown",
   "id": "12",
   "metadata": {},
   "source": [
    "Using the 10-m [Sentinel-2 imagery](https://developers.google.com/earth-engine/datasets/catalog/COPERNICUS_S2_SR#bands)."
   ]
  },
  {
   "cell_type": "code",
   "execution_count": 232,
   "id": "843a7b57",
   "metadata": {},
   "outputs": [
    {
     "data": {
      "text/html": [
       "\n",
       "            <style>\n",
       "                .geemap-dark {\n",
       "                    --jp-widgets-color: white;\n",
       "                    --jp-widgets-label-color: white;\n",
       "                    --jp-ui-font-color1: white;\n",
       "                    --jp-layout-color2: #454545;\n",
       "                    background-color: #383838;\n",
       "                }\n",
       "\n",
       "                .geemap-dark .jupyter-button {\n",
       "                    --jp-layout-color3: #383838;\n",
       "                }\n",
       "\n",
       "                .geemap-colab {\n",
       "                    background-color: var(--colab-primary-surface-color, white);\n",
       "                }\n",
       "\n",
       "                .geemap-colab .jupyter-button {\n",
       "                    --jp-layout-color3: var(--colab-primary-surface-color, white);\n",
       "                }\n",
       "            </style>\n",
       "            "
      ],
      "text/plain": [
       "<IPython.core.display.HTML object>"
      ]
     },
     "metadata": {},
     "output_type": "display_data"
    }
   ],
   "source": [
    "JAPlist=[\n",
    "('2018-07-13','2018-07-15'),# JAP 2 images\n",
    "('2018-10-03','2018-10-05'),# JAP\n",
    "('2018-09-01','2018-09-05'),#korea\n",
    "('2018-10-05','2018-10-08'),#korea\n",
    "]\n",
    "Debrisindex = 3"
   ]
  },
  {
   "cell_type": "code",
   "execution_count": 195,
   "id": "c52287cf",
   "metadata": {},
   "outputs": [
    {
     "data": {
      "text/html": [
       "\n",
       "            <style>\n",
       "                .geemap-dark {\n",
       "                    --jp-widgets-color: white;\n",
       "                    --jp-widgets-label-color: white;\n",
       "                    --jp-ui-font-color1: white;\n",
       "                    --jp-layout-color2: #454545;\n",
       "                    background-color: #383838;\n",
       "                }\n",
       "\n",
       "                .geemap-dark .jupyter-button {\n",
       "                    --jp-layout-color3: #383838;\n",
       "                }\n",
       "\n",
       "                .geemap-colab {\n",
       "                    background-color: var(--colab-primary-surface-color, white);\n",
       "                }\n",
       "\n",
       "                .geemap-colab .jupyter-button {\n",
       "                    --jp-layout-color3: var(--colab-primary-surface-color, white);\n",
       "                }\n",
       "            </style>\n",
       "            "
      ],
      "text/plain": [
       "<IPython.core.display.HTML object>"
      ]
     },
     "metadata": {},
     "output_type": "display_data"
    }
   ],
   "source": [
    "    #   .copyProperties(image, image.propertyNames())\n",
    "def mask_s2_clouds(image):\n",
    "  \"\"\"Masks clouds in a Sentinel-2 image using the QA band.\n",
    "\n",
    "  Args:\n",
    "      image (ee.Image): A Sentinel-2 image.\n",
    "\n",
    "  Returns:\n",
    "      ee.Image: A cloud-masked Sentinel-2 image.\n",
    "  \"\"\"\n",
    "  qa = image.select('QA60')\n",
    "\n",
    "  # Bits 10 and 11 are clouds and cirrus, respectively.\n",
    "  cloud_bit_mask = 1 << 10\n",
    "  cirrus_bit_mask = 1 << 11\n",
    "\n",
    "  # Both flags should be set to zero, indicating clear conditions.\n",
    "  mask = (\n",
    "      qa.bitwiseAnd(cloud_bit_mask)\n",
    "      .eq(0)\n",
    "      .And(qa.bitwiseAnd(cirrus_bit_mask).eq(0))\n",
    "  )\n",
    "  mask = mask.Not().fastDistanceTransform().sqrt().gt(15)\n",
    "\n",
    "  return image.select(\"B.*\").updateMask(mask)\n"
   ]
  },
  {
   "cell_type": "code",
   "execution_count": 291,
   "id": "112a3be1",
   "metadata": {},
   "outputs": [
    {
     "data": {
      "text/html": [
       "\n",
       "            <style>\n",
       "                .geemap-dark {\n",
       "                    --jp-widgets-color: white;\n",
       "                    --jp-widgets-label-color: white;\n",
       "                    --jp-ui-font-color1: white;\n",
       "                    --jp-layout-color2: #454545;\n",
       "                    background-color: #383838;\n",
       "                }\n",
       "\n",
       "                .geemap-dark .jupyter-button {\n",
       "                    --jp-layout-color3: #383838;\n",
       "                }\n",
       "\n",
       "                .geemap-colab {\n",
       "                    background-color: var(--colab-primary-surface-color, white);\n",
       "                }\n",
       "\n",
       "                .geemap-colab .jupyter-button {\n",
       "                    --jp-layout-color3: var(--colab-primary-surface-color, white);\n",
       "                }\n",
       "            </style>\n",
       "            "
      ],
      "text/plain": [
       "<IPython.core.display.HTML object>"
      ]
     },
     "metadata": {},
     "output_type": "display_data"
    }
   ],
   "source": [
    "region = Map.user_roi\n",
    "\n",
    "# 定义 DeltaR 函数\n",
    "def DeltaR(kernel=3):\n",
    "    def process(image):\n",
    "        # 计算邻域最小值\n",
    "        Rmin = image.reduceNeighborhood(\n",
    "            reducer=ee.Reducer.min(),\n",
    "            kernel=ee.Kernel.square(kernel)\n",
    "        )\n",
    "        # 图像减去邻域最小值\n",
    "        subtracted = image.subtract(Rmin).regexpRename('^','Diff_')\n",
    "        # 复制属性并返回结果\n",
    "        return image.addBands(subtracted).divide(10000).copyProperties(image, image.propertyNames())\n",
    "    return process\n",
    "    \n",
    "# 定义映射函数，提取属性并格式化日期\n",
    "def extract_properties(image):\n",
    "    date_str = ee.Date(image.get('system:time_start')).format('YYYY-MM-dd')\n",
    "    image = image.set({\n",
    "        'Date': date_str,\n",
    "        'TargetType': 'Debris',\n",
    "        'ProductType': 'L1C_TOA',\n",
    "        'Institution': 'Nanjing University',\n",
    "        'Author': 'Lu_Group',\n",
    "    })\n",
    "    return image\n",
    "    \n",
    "dem =ee.Image(\"NASA/NASADEM_HGT/001\").select('elevation');  \n",
    "oceanMask = dem.gt(0).fastDistanceTransform().sqrt();  \n",
    "oceanbufferMask = oceanMask.gt(20) #pixel\n",
    "\n",
    "# .filterDate(*JAPlist[Debrisindex])\n",
    "        # .filterBounds(JSROI)\n",
    "        # .filter(ee.Filter.lt('CLOUDY_PIXEL_PERCENTAGE', 60))        \n",
    "\n",
    "S2 = (\n",
    "    ee.ImageCollection(\"COPERNICUS/S2_HARMONIZED\")\n",
    "        .filter(ee.Filter.eq('system:index', ID))\n",
    "        .map(mask_s2_clouds)\n",
    "        .map(DeltaR(7))\n",
    "        .map(lambda img: img.addBands(img.normalizedDifference(['Diff_B8', 'Diff_B4']).rename('NDVI')))\n",
    ")\n",
    "\n",
    "image = S2.first()\n",
    "        \n",
    "Label = (image\n",
    "        .select('B8').updateMask(oceanbufferMask)\n",
    "        .updateMask(image.select('Diff_B10').lt(0.0004))\n",
    "        .updateMask(image.select('Diff_B8').divide(2).gt(image.select('Diff_B12')))\n",
    "        .updateMask(image.select('Diff_B8').gt(0.00).And(image.select('NDVI').gt(-0.05)))#.gt(0)\n",
    "        )\n",
    "        \n",
    "# compactness: 0.4,\n",
    "neighborhoodCount = Label.reduceNeighborhood(\n",
    "      **{\n",
    "      'reducer':ee.Reducer.count(),\n",
    "      'kernel': ee.Kernel.square(1),\n",
    "  }).gte(3)# export 10m\n",
    "  \n",
    "Label = ee.Image.byte(Label.updateMask(neighborhoodCount)\n",
    ".mask())\n",
    "\n",
    "Sample = (image\n",
    "        .select('B8')\n",
    "        .updateMask(oceanbufferMask)\n",
    "        .updateMask(image.select('Diff_B10').lt(0.0004))\n",
    "        .updateMask(image.select('Diff_B8').divide(2).gt(image.select('Diff_B12')))\n",
    "        .updateMask(image.select('Diff_B8').gt(0.004).And(image.select('NDVI').gt(0.1)))\n",
    "        .updateMask(neighborhoodCount)\n",
    "        .gt(0)\n",
    "        # .clip(region)\n",
    "        )\n",
    "        # .copyProperties(image, image.propertyNames())\n",
    "\n",
    "params = {\n",
    "    \"count\": 50,  # How many image chips to export\n",
    "    \"buffer\": 128*10,  # The buffer distance (m) around each point\n",
    "    \"scale\": 60,  # The scale to do stratified sampling getRequests()\n",
    "    \"seed\": 1,  # A randomization seed to use for subsampling.\n",
    "    \"dimensions\": \"256x256\",  # The dimension of each image chip\n",
    "    \"format\": \"png\",  # The output image format, can be png, jpg, ZIPPED_GEO_TIFF, GEO_TIFF, NPY\n",
    "    \"prefix\": image.get('system:index').getInfo()+\"_\",  # The filename prefix\n",
    "    \"processes\": 200,  # How many processes to used for parallel processing\n",
    "    \"R_dir\": \"E:/SDGChips/Chip/R\",  # The output directory. Default to the current working directly\n",
    "    \"DiffR_dir\": \"E:/SDGChips/Chip/DiffR\",  # The output directory. Default to the current working directly\n",
    "    \"TCI_dir\": \"E:/SDGChips/Pic/TCI\",  # The output directory. Default to the current working directly\n",
    "    \"FCI_dir\": \"E:/SDGChips/Pic/FCI\",  # The output directory. Default to the current working directly\n",
    "    \"Fea_dir\": \"E:/SDGChips/Feature\",  # The output directory. Default to the current working directly\n",
    "    \"Label_dir\": \"E:/SDGChips/Chip/Label\",  # The output directory. Default to the current working directly\n",
    "}\n",
    "\n",
    "image = (\n",
    "    ee.ImageCollection(\"COPERNICUS/S2_HARMONIZED\")\n",
    "        .filter(ee.Filter.eq('system:index', ID))\n",
    "        .select(\"B.*\")\n",
    "        .map(extract_properties)\n",
    "        .map(DeltaR(7))\n",
    "        .map(lambda img: img.addBands(img.normalizedDifference(['Diff_B8', 'Diff_B4']).rename('NDVI')))\n",
    ").first()\n",
    "\n",
    "# 获取影像属性\n",
    "properties = ['system:index', 'ProductType', 'SPACECRAFT_NAME', 'MGRS_TILE','TargetType', 'Date','Institution','Author']\n",
    "image_properties = image.getInfo()['properties']\n",
    "filtered_properties = {key: image_properties[key] for key in properties if key in image_properties}\n",
    "# 注意：getInfo() 会进行客户端请求，可能较慢。如有需要，请仅获取必要的属性。"
   ]
  },
  {
   "cell_type": "markdown",
   "id": "16",
   "metadata": {},
   "source": [
    "### Add layers to map"
   ]
  },
  {
   "cell_type": "code",
   "execution_count": 294,
   "id": "17",
   "metadata": {},
   "outputs": [
    {
     "data": {
      "text/html": [
       "\n",
       "            <style>\n",
       "                .geemap-dark {\n",
       "                    --jp-widgets-color: white;\n",
       "                    --jp-widgets-label-color: white;\n",
       "                    --jp-ui-font-color1: white;\n",
       "                    --jp-layout-color2: #454545;\n",
       "                    background-color: #383838;\n",
       "                }\n",
       "\n",
       "                .geemap-dark .jupyter-button {\n",
       "                    --jp-layout-color3: #383838;\n",
       "                }\n",
       "\n",
       "                .geemap-colab {\n",
       "                    background-color: var(--colab-primary-surface-color, white);\n",
       "                }\n",
       "\n",
       "                .geemap-colab .jupyter-button {\n",
       "                    --jp-layout-color3: var(--colab-primary-surface-color, white);\n",
       "                }\n",
       "            </style>\n",
       "            "
      ],
      "text/plain": [
       "<IPython.core.display.HTML object>"
      ]
     },
     "metadata": {},
     "output_type": "display_data"
    },
    {
     "data": {
      "application/vnd.jupyter.widget-view+json": {
       "model_id": "022dfe4b5a824a01985eb6e96bc2ad71",
       "version_major": 2,
       "version_minor": 0
      },
      "text/plain": [
       "Map(bottom=2168447.0, center=[-6.082094894506808, -254.6640729904175], controls=(WidgetControl(options=['posit…"
      ]
     },
     "execution_count": 294,
     "metadata": {},
     "output_type": "execute_result"
    }
   ],
   "source": [
    "vis_params = {\n",
    "    \"bands\": [\"B4\", \"B8\", \"B2\"],\n",
    "    \"min\": 0.02,\n",
    "    \"max\": 0.15,\n",
    "    \"gamma\": 1.5  # Adjust gamma to enhance the difference between the target and water background\n",
    "}\n",
    "\n",
    "ndvi_params = {\n",
    "    \"bands\": [\"NDVI\"],\n",
    "    \"min\": 0,\n",
    "    \"max\":0.2,\n",
    "    \"palette\": [\"00FFFF\", \"0000FF\"]\n",
    "}\n",
    "\n",
    "Map.addLayer(image,vis_params, \"Image\")\n",
    "# Map.addLayer(S2.first(),vis_params, \"CLD\")\n",
    "# Map.addLayer(image.select('NDVI'), ndvi_params, \"NDVI\")\n",
    "Map.addLayer(JSROI, {}, \"ROI\", False)\n",
    "Map.addLayer(Sample, {\"min\": 0, \"max\": 1}, \"Sample\", False)\n",
    "Map.addLayer(Label,{\"min\": 0, \"max\": 1}, \"Label\", False)\n",
    "# Map.centerObject(region, 12)\n",
    "# Map.setCenter(-122.4415, 37.7555, 12)\n",
    "Map"
   ]
  },
  {
   "cell_type": "markdown",
   "id": "18",
   "metadata": {},
   "source": [
    "### Generate a list of work items\n",
    "\n",
    "In the example, we are going to generate 1000 points using the stratified random sampling, which requires a `classBand`. It is the name of the band containing the classes to use for stratification. If unspecified, the first band of the input image is used. Therefore, we have toADD a new band with a constant value (e.g., 1) to the image. The result of the `getRequests()`function returns a list of dictionaries containing points."
   ]
  },
  {
   "cell_type": "code",
   "execution_count": 25,
   "id": "19",
   "metadata": {},
   "outputs": [
    {
     "data": {
      "text/html": [
       "\n",
       "            <style>\n",
       "                .geemap-dark {\n",
       "                    --jp-widgets-color: white;\n",
       "                    --jp-widgets-label-color: white;\n",
       "                    --jp-ui-font-color1: white;\n",
       "                    --jp-layout-color2: #454545;\n",
       "                    background-color: #383838;\n",
       "                }\n",
       "\n",
       "                .geemap-dark .jupyter-button {\n",
       "                    --jp-layout-color3: #383838;\n",
       "                }\n",
       "\n",
       "                .geemap-colab {\n",
       "                    background-color: var(--colab-primary-surface-color, white);\n",
       "                }\n",
       "\n",
       "                .geemap-colab .jupyter-button {\n",
       "                    --jp-layout-color3: var(--colab-primary-surface-color, white);\n",
       "                }\n",
       "            </style>\n",
       "            "
      ],
      "text/plain": [
       "<IPython.core.display.HTML object>"
      ]
     },
     "metadata": {},
     "output_type": "display_data"
    }
   ],
   "source": [
    "def getRequests():\n",
    "    # img = ee.Image(1).rename(\"Class\").updateMask(Sample.mask())\n",
    "    points = Sample.stratifiedSample(\n",
    "        numPoints=params[\"count\"],\n",
    "        # region=region,\n",
    "        region= image.geometry().intersection(JSROI,0.01),\n",
    "        scale=params[\"scale\"],\n",
    "        seed=params[\"seed\"],\n",
    "        geometries=True,\n",
    "    )\n",
    "    Map.data = points\n",
    "    return points.aggregate_array(\".geo\").getInfo()"
   ]
  },
  {
   "cell_type": "markdown",
   "id": "20",
   "metadata": {},
   "source": [
    "### Create a function for downloading image"
   ]
  },
  {
   "cell_type": "markdown",
   "id": "21",
   "metadata": {},
   "source": [
    "The `getResult()` function then takes one of those points and generates an image centered on that location, which is then downloaded as a PNG and saved to a file. This function uses `image.getThumbURL()` to select the pixels, however you could also use `image.getDownloadURL()` if you wanted the output to be in GeoTIFF or NumPy format ([source](https://gorelick.medium.com/fast-er-downloads-a2abd512aa26))."
   ]
  },
  {
   "cell_type": "code",
   "execution_count": 48,
   "id": "22",
   "metadata": {},
   "outputs": [
    {
     "data": {
      "text/html": [
       "\n",
       "            <style>\n",
       "                .geemap-dark {\n",
       "                    --jp-widgets-color: white;\n",
       "                    --jp-widgets-label-color: white;\n",
       "                    --jp-ui-font-color1: white;\n",
       "                    --jp-layout-color2: #454545;\n",
       "                    background-color: #383838;\n",
       "                }\n",
       "\n",
       "                .geemap-dark .jupyter-button {\n",
       "                    --jp-layout-color3: #383838;\n",
       "                }\n",
       "\n",
       "                .geemap-colab {\n",
       "                    background-color: var(--colab-primary-surface-color, white);\n",
       "                }\n",
       "\n",
       "                .geemap-colab .jupyter-button {\n",
       "                    --jp-layout-color3: var(--colab-primary-surface-color, white);\n",
       "                }\n",
       "            </style>\n",
       "            "
      ],
      "text/plain": [
       "<IPython.core.display.HTML object>"
      ]
     },
     "metadata": {},
     "output_type": "display_data"
    }
   ],
   "source": [
    "TCI_vis_params = {\n",
    "    \"bands\": [\"B4\", \"B3\", \"B2\"],\n",
    "    \"min\": 0.02,\n",
    "    \"max\": 0.15,\n",
    "    \"gamma\": 0.8  # Adjust gamma to enhance the difference between the target and water background\n",
    "}\n",
    "FCI_vis_params = {\n",
    "    \"bands\": [\"B4\", \"B8\", \"B2\"],\n",
    "    \"min\": 0.02,\n",
    "    \"max\": 0.15,\n",
    "    \"gamma\": 1.2  # Adjust gamma to enhance the difference between the target and water background\n",
    "}\n",
    "  \n",
    "@retry(tries=10, delay=1, backoff=2)\n",
    "def getPNGResult(index, point):\n",
    "    centroid = point[\"coordinates\"]\n",
    "    point = ee.Geometry.Point(centroid)\n",
    "    region = point.buffer(params[\"buffer\"]).bounds()\n",
    "\n",
    "    url_TCI = image.visualize(**TCI_vis_params).getThumbURL(\n",
    "        {\n",
    "            \"region\": region,\n",
    "            \"dimensions\": params[\"dimensions\"],\n",
    "            \"format\": 'png',\n",
    "        }\n",
    "    )\n",
    "    url_FCI = image.visualize(**FCI_vis_params).getThumbURL(\n",
    "        {\n",
    "            \"region\": region,\n",
    "            \"dimensions\": params[\"dimensions\"],\n",
    "            \"format\": 'png',\n",
    "        }\n",
    "    )\n",
    "\n",
    "    #png TCI\n",
    "    r = requests.get(url_TCI, stream=True)\n",
    "    if r.status_code != 200:\n",
    "        r.raise_for_status()\n",
    "    out_dir = os.path.abspath(params[\"TCI_dir\"])\n",
    "    basename = str(index).zfill(len(str(params[\"count\"])))\n",
    "    filename = f\"{out_dir}/{params['prefix']}{basename}.png\"\n",
    "    with open(filename, \"wb\") as out_file:\n",
    "        shutil.copyfileobj(r.raw, out_file)\n",
    "        \n",
    "    #png FCI\n",
    "    r = requests.get(url_FCI, stream=True)\n",
    "    if r.status_code != 200:\n",
    "        r.raise_for_status()\n",
    "    out_dir = os.path.abspath(params[\"FCI_dir\"])\n",
    "    basename = str(index).zfill(len(str(params[\"count\"])))\n",
    "    filename = f\"{out_dir}/{params['prefix']}{basename}.png\"\n",
    "    with open(filename, \"wb\") as out_file:\n",
    "        shutil.copyfileobj(r.raw, out_file)\n",
    "                   \n",
    "    print(\"PNGDone: \", basename)"
   ]
  },
  {
   "cell_type": "code",
   "execution_count": 27,
   "id": "ba865ef4",
   "metadata": {},
   "outputs": [
    {
     "data": {
      "text/html": [
       "\n",
       "            <style>\n",
       "                .geemap-dark {\n",
       "                    --jp-widgets-color: white;\n",
       "                    --jp-widgets-label-color: white;\n",
       "                    --jp-ui-font-color1: white;\n",
       "                    --jp-layout-color2: #454545;\n",
       "                    background-color: #383838;\n",
       "                }\n",
       "\n",
       "                .geemap-dark .jupyter-button {\n",
       "                    --jp-layout-color3: #383838;\n",
       "                }\n",
       "\n",
       "                .geemap-colab {\n",
       "                    background-color: var(--colab-primary-surface-color, white);\n",
       "                }\n",
       "\n",
       "                .geemap-colab .jupyter-button {\n",
       "                    --jp-layout-color3: var(--colab-primary-surface-color, white);\n",
       "                }\n",
       "            </style>\n",
       "            "
      ],
      "text/plain": [
       "<IPython.core.display.HTML object>"
      ]
     },
     "metadata": {},
     "output_type": "display_data"
    }
   ],
   "source": [
    "@retry(tries=10, delay=1, backoff=2)\n",
    "def getTifResult(index, point):\n",
    "    centroid = point[\"coordinates\"]\n",
    "    point = ee.Geometry.Point(centroid)\n",
    "    region = point.buffer(params[\"buffer\"]).bounds()\n",
    "\n",
    "    url_tif = image.select('B.*').getDownloadURL(\n",
    "        {\n",
    "            \"region\": region,\n",
    "            \"dimensions\": params[\"dimensions\"],\n",
    "            \"crs\":'EPSG:4326',\n",
    "            \"format\": 'GEO_TIFF',\n",
    "        }\n",
    "    )\n",
    "\n",
    "    url_diff = image.select('Diff.*').getDownloadURL(\n",
    "        {\n",
    "            \"region\": region,\n",
    "            \"dimensions\": params[\"dimensions\"],\n",
    "            \"crs\":'EPSG:4326',\n",
    "            \"format\": 'GEO_TIFF',\n",
    "        }\n",
    "    )\n",
    "    url_Label = Label.getDownloadURL(\n",
    "        {\n",
    "            \"region\": region,\n",
    "            \"dimensions\": params[\"dimensions\"],\n",
    "            \"crs\":'EPSG:4326',\n",
    "            \"format\": 'GEO_TIFF',\n",
    "        }\n",
    "    )\n",
    "       \n",
    "    #tif R\n",
    "    r = requests.get(url_tif, stream=True)\n",
    "    if r.status_code != 200:\n",
    "        r.raise_for_status()\n",
    "    out_dir = os.path.abspath(params[\"R_dir\"])\n",
    "    basename = str(index).zfill(len(str(params[\"count\"])))\n",
    "    filename = f\"{out_dir}/{params['prefix']}{basename}.tif\"\n",
    "    with open(filename, \"wb\") as out_file:\n",
    "        shutil.copyfileobj(r.raw, out_file)\n",
    "        \n",
    "    #tif Diff\n",
    "    r = requests.get(url_diff, stream=True)\n",
    "    if r.status_code != 200:\n",
    "        r.raise_for_status()\n",
    "    out_dir = os.path.abspath(params[\"DiffR_dir\"])\n",
    "    basename = str(index).zfill(len(str(params[\"count\"])))\n",
    "    filename = f\"{out_dir}/{params['prefix']}{basename}.tif\"\n",
    "    with open(filename, \"wb\") as out_file:\n",
    "        shutil.copyfileobj(r.raw, out_file)\n",
    "        \n",
    "    #Label\n",
    "    r = requests.get(url_Label, stream=True)\n",
    "    if r.status_code != 200:\n",
    "        r.raise_for_status()\n",
    "    out_dir = os.path.abspath(params[\"Label_dir\"])\n",
    "    basename = str(index).zfill(len(str(params[\"count\"])))\n",
    "    filename = f\"{out_dir}/{params['prefix']}{basename}.tif\"\n",
    "    with open(filename, \"wb\") as out_file:\n",
    "        shutil.copyfileobj(r.raw, out_file)\n",
    "    \n",
    "    print(\"FifDone: \", basename)"
   ]
  },
  {
   "cell_type": "code",
   "execution_count": 28,
   "id": "55227671",
   "metadata": {},
   "outputs": [
    {
     "data": {
      "text/html": [
       "\n",
       "            <style>\n",
       "                .geemap-dark {\n",
       "                    --jp-widgets-color: white;\n",
       "                    --jp-widgets-label-color: white;\n",
       "                    --jp-ui-font-color1: white;\n",
       "                    --jp-layout-color2: #454545;\n",
       "                    background-color: #383838;\n",
       "                }\n",
       "\n",
       "                .geemap-dark .jupyter-button {\n",
       "                    --jp-layout-color3: #383838;\n",
       "                }\n",
       "\n",
       "                .geemap-colab {\n",
       "                    background-color: var(--colab-primary-surface-color, white);\n",
       "                }\n",
       "\n",
       "                .geemap-colab .jupyter-button {\n",
       "                    --jp-layout-color3: var(--colab-primary-surface-color, white);\n",
       "                }\n",
       "            </style>\n",
       "            "
      ],
      "text/plain": [
       "<IPython.core.display.HTML object>"
      ]
     },
     "metadata": {},
     "output_type": "display_data"
    }
   ],
   "source": [
    "@retry(tries=10, delay=1, backoff=2)\n",
    "def getShpResult(index, point):\n",
    "    centroid = point[\"coordinates\"]\n",
    "    point = ee.Geometry.Point(centroid)\n",
    "    region = point.buffer(params[\"buffer\"]).bounds()\n",
    "\n",
    "    # 获取缓冲区多边形的坐标\n",
    "    region_coords = region.coordinates().get(0).getInfo()\n",
    "    # 将坐标列表转换为 shapely Polygon\n",
    "    region_geom = Polygon(region_coords)\n",
    "    \n",
    "    # 创建 GeoDataFrame，包含点和区域几何\n",
    "    gdf = gpd.GeoDataFrame(\n",
    "        [{\n",
    "            'geometry': region_geom,\n",
    "            'footprint': region_geom.wkt,\n",
    "            'centroid': Point(centroid).wkt,\n",
    "            **filtered_properties\n",
    "        }],\n",
    "        geometry='geometry',\n",
    "        crs='EPSG:4326'\n",
    "    )\n",
    "    # gdf.set_geometry('geometry')\n",
    "    # 保存为 Shapefile\n",
    "    shapefile_dir = os.path.join(r'E:\\SDGChips', \"Feature\")\n",
    "    os.makedirs(shapefile_dir, exist_ok=True)\n",
    "    basename = str(index).zfill(len(str(params[\"count\"])))\n",
    "    shapefile_path = os.path.join(shapefile_dir, f\"{params['prefix']}{basename}.json\")\n",
    "    gdf.to_file(shapefile_path, driver='GeoJSON', encoding='utf-8')\n",
    "       \n",
    "    print(\"ShpDone: \", basename)"
   ]
  },
  {
   "cell_type": "code",
   "execution_count": null,
   "id": "16c2c64a",
   "metadata": {},
   "outputs": [],
   "source": [
    "'20181014T015649_20181014T015649_T52SGF'"
   ]
  },
  {
   "cell_type": "code",
   "execution_count": 302,
   "id": "7173a799",
   "metadata": {},
   "outputs": [
    {
     "data": {
      "text/html": [
       "\n",
       "            <style>\n",
       "                .geemap-dark {\n",
       "                    --jp-widgets-color: white;\n",
       "                    --jp-widgets-label-color: white;\n",
       "                    --jp-ui-font-color1: white;\n",
       "                    --jp-layout-color2: #454545;\n",
       "                    background-color: #383838;\n",
       "                }\n",
       "\n",
       "                .geemap-dark .jupyter-button {\n",
       "                    --jp-layout-color3: #383838;\n",
       "                }\n",
       "\n",
       "                .geemap-colab {\n",
       "                    background-color: var(--colab-primary-surface-color, white);\n",
       "                }\n",
       "\n",
       "                .geemap-colab .jupyter-button {\n",
       "                    --jp-layout-color3: var(--colab-primary-surface-color, white);\n",
       "                }\n",
       "            </style>\n",
       "            "
      ],
      "text/plain": [
       "<IPython.core.display.HTML object>"
      ]
     },
     "metadata": {},
     "output_type": "display_data"
    },
    {
     "name": "stdout",
     "output_type": "stream",
     "text": [
      "所有 GeoJSON 文件已合并并保存为： E:\\SDGChips\\Feature\\merged.json\n"
     ]
    }
   ],
   "source": [
    "import os\n",
    "import glob\n",
    "import geopandas as gpd\n",
    "import pandas as pd  # 导入 pandas\n",
    "\n",
    "# 设置目标文件夹路径\n",
    "folder_path = r'E:\\SDGChips\\Feature'\n",
    "\n",
    "# 获取所有 GeoJSON 文件的路径列表\n",
    "geojson_files = glob.glob(os.path.join(folder_path, '*.json'))\n",
    "\n",
    "# 初始化一个空的列表，用于存储 GeoDataFrame\n",
    "gdf_list = []\n",
    "\n",
    "# 遍历所有 GeoJSON 文件，将它们读取并添加到列表中\n",
    "for geojson_file in geojson_files:\n",
    "    gdf = gpd.read_file(geojson_file, encoding='utf-8')\n",
    "    basename = os.path.basename(geojson_file).split('.')[0][:-3]\n",
    "    system_index = basename\n",
    "    mgrs_tile = basename.split('_')[2][1:]\n",
    "    date = basename[:4] + '-' + basename[4:6] + '-' + basename[6:8]\n",
    "\n",
    "    gdf['system:index'] = system_index\n",
    "    gdf['MGRS_TILE'] = mgrs_tile\n",
    "    gdf['Date'] = date\n",
    "    # 可选：统一 CRS\n",
    "    # gdf = gdf.to_crs('EPSG:4326')\n",
    "    gdf_list.append(gdf)\n",
    "    # 替换单独的json文件\n",
    "    gdf.to_file(geojson_file, driver='GeoJSON', encoding='utf-8')\n",
    "\n",
    "# 使用 pd.concat 合并所有 GeoDataFrame\n",
    "merged_gdf = pd.concat(gdf_list, ignore_index=True)\n",
    "\n",
    "# 设置输出文件路径\n",
    "output_json = os.path.join(folder_path, 'merged.json')\n",
    "\n",
    "# 将合并后的 GeoDataFrame 保存为 GeoJSON\n",
    "merged_gdf.to_file(output_json, driver='GeoJSON', encoding='utf-8')\n",
    "\n",
    "print('所有 GeoJSON 文件已合并并保存为：', output_json)"
   ]
  },
  {
   "cell_type": "markdown",
   "id": "23",
   "metadata": {},
   "source": [
    "### Download images"
   ]
  },
  {
   "cell_type": "code",
   "execution_count": 295,
   "id": "0456447b",
   "metadata": {},
   "outputs": [
    {
     "data": {
      "text/html": [
       "\n",
       "            <style>\n",
       "                .geemap-dark {\n",
       "                    --jp-widgets-color: white;\n",
       "                    --jp-widgets-label-color: white;\n",
       "                    --jp-ui-font-color1: white;\n",
       "                    --jp-layout-color2: #454545;\n",
       "                    background-color: #383838;\n",
       "                }\n",
       "\n",
       "                .geemap-dark .jupyter-button {\n",
       "                    --jp-layout-color3: #383838;\n",
       "                }\n",
       "\n",
       "                .geemap-colab {\n",
       "                    background-color: var(--colab-primary-surface-color, white);\n",
       "                }\n",
       "\n",
       "                .geemap-colab .jupyter-button {\n",
       "                    --jp-layout-color3: var(--colab-primary-surface-color, white);\n",
       "                }\n",
       "            </style>\n",
       "            "
      ],
      "text/plain": [
       "<IPython.core.display.HTML object>"
      ]
     },
     "metadata": {},
     "output_type": "display_data"
    },
    {
     "name": "stderr",
     "output_type": "stream",
     "text": [
      "WARNING:urllib3.connectionpool:Connection pool is full, discarding connection: earthengine-highvolume.googleapis.com. Connection pool size: 10\n",
      "WARNING:urllib3.connectionpool:Connection pool is full, discarding connection: earthengine-highvolume.googleapis.com. Connection pool size: 10\n",
      "WARNING:urllib3.connectionpool:Connection pool is full, discarding connection: earthengine-highvolume.googleapis.com. Connection pool size: 10\n",
      "WARNING:urllib3.connectionpool:Connection pool is full, discarding connection: earthengine-highvolume.googleapis.com. Connection pool size: 10\n",
      "WARNING:urllib3.connectionpool:Connection pool is full, discarding connection: earthengine-highvolume.googleapis.com. Connection pool size: 10\n",
      "WARNING:urllib3.connectionpool:Connection pool is full, discarding connection: earthengine-highvolume.googleapis.com. Connection pool size: 10\n",
      "WARNING:urllib3.connectionpool:Connection pool is full, discarding connection: earthengine-highvolume.googleapis.com. Connection pool size: 10\n",
      "WARNING:urllib3.connectionpool:Connection pool is full, discarding connection: earthengine-highvolume.googleapis.com. Connection pool size: 10\n",
      "WARNING:urllib3.connectionpool:Connection pool is full, discarding connection: earthengine-highvolume.googleapis.com. Connection pool size: 10\n",
      "WARNING:urllib3.connectionpool:Connection pool is full, discarding connection: earthengine-highvolume.googleapis.com. Connection pool size: 10\n",
      "WARNING:urllib3.connectionpool:Connection pool is full, discarding connection: earthengine-highvolume.googleapis.com. Connection pool size: 10\n",
      "WARNING:urllib3.connectionpool:Connection pool is full, discarding connection: earthengine-highvolume.googleapis.com. Connection pool size: 10\n",
      "WARNING:urllib3.connectionpool:Connection pool is full, discarding connection: earthengine-highvolume.googleapis.com. Connection pool size: 10\n",
      "WARNING:urllib3.connectionpool:Connection pool is full, discarding connection: earthengine-highvolume.googleapis.com. Connection pool size: 10\n",
      "WARNING:urllib3.connectionpool:Connection pool is full, discarding connection: earthengine-highvolume.googleapis.com. Connection pool size: 10\n",
      "WARNING:urllib3.connectionpool:Connection pool is full, discarding connection: earthengine-highvolume.googleapis.com. Connection pool size: 10\n",
      "WARNING:urllib3.connectionpool:Connection pool is full, discarding connection: earthengine-highvolume.googleapis.com. Connection pool size: 10\n",
      "WARNING:urllib3.connectionpool:Connection pool is full, discarding connection: earthengine-highvolume.googleapis.com. Connection pool size: 10\n",
      "WARNING:urllib3.connectionpool:Connection pool is full, discarding connection: earthengine-highvolume.googleapis.com. Connection pool size: 10\n",
      "WARNING:urllib3.connectionpool:Connection pool is full, discarding connection: earthengine-highvolume.googleapis.com. Connection pool size: 10\n",
      "WARNING:urllib3.connectionpool:Connection pool is full, discarding connection: earthengine-highvolume.googleapis.com. Connection pool size: 10\n",
      "WARNING:urllib3.connectionpool:Connection pool is full, discarding connection: earthengine-highvolume.googleapis.com. Connection pool size: 10\n",
      "WARNING:urllib3.connectionpool:Connection pool is full, discarding connection: earthengine-highvolume.googleapis.com. Connection pool size: 10\n",
      "WARNING:urllib3.connectionpool:Connection pool is full, discarding connection: earthengine-highvolume.googleapis.com. Connection pool size: 10\n",
      "WARNING:urllib3.connectionpool:Connection pool is full, discarding connection: earthengine-highvolume.googleapis.com. Connection pool size: 10\n",
      "WARNING:urllib3.connectionpool:Connection pool is full, discarding connection: earthengine-highvolume.googleapis.com. Connection pool size: 10\n",
      "WARNING:urllib3.connectionpool:Connection pool is full, discarding connection: earthengine-highvolume.googleapis.com. Connection pool size: 10\n",
      "WARNING:urllib3.connectionpool:Connection pool is full, discarding connection: earthengine-highvolume.googleapis.com. Connection pool size: 10\n",
      "WARNING:urllib3.connectionpool:Connection pool is full, discarding connection: earthengine-highvolume.googleapis.com. Connection pool size: 10\n",
      "WARNING:urllib3.connectionpool:Connection pool is full, discarding connection: earthengine-highvolume.googleapis.com. Connection pool size: 10\n",
      "WARNING:urllib3.connectionpool:Connection pool is full, discarding connection: earthengine-highvolume.googleapis.com. Connection pool size: 10\n",
      "WARNING:urllib3.connectionpool:Connection pool is full, discarding connection: earthengine-highvolume.googleapis.com. Connection pool size: 10\n",
      "WARNING:urllib3.connectionpool:Connection pool is full, discarding connection: earthengine-highvolume.googleapis.com. Connection pool size: 10\n"
     ]
    },
    {
     "name": "stdout",
     "output_type": "stream",
     "text": [
      "PNGDone:  08\n",
      "PNGDone:  03\n",
      "PNGDone:  07\n",
      "PNGDone:  02\n",
      "PNGDone:  15\n",
      "PNGDone:  42\n",
      "PNGDone:  05\n",
      "PNGDone:  29\n",
      "PNGDone:  31\n",
      "PNGDone:  25\n",
      "PNGDone:  18\n",
      "PNGDone:  35\n",
      "PNGDone:  13\n",
      "PNGDone:  06\n",
      "PNGDone:  39\n",
      "PNGDone:  11\n",
      "PNGDone:  19\n",
      "PNGDone:  34\n",
      "PNGDone:  04\n",
      "PNGDone:  28\n",
      "PNGDone:  26\n",
      "PNGDone:  17\n",
      "PNGDone:  09\n",
      "PNGDone:  14\n",
      "PNGDone:  41\n",
      "PNGDone:  37\n",
      "PNGDone:  20\n",
      "PNGDone:  21\n",
      "PNGDone:  16\n",
      "PNGDone:  01\n",
      "PNGDone:  27\n",
      "PNGDone:  30\n",
      "PNGDone:  22\n",
      "PNGDone:  38\n",
      "PNGDone:  24\n",
      "PNGDone:  32\n",
      "PNGDone:  10\n",
      "PNGDone:  36\n",
      "PNGDone:  23\n",
      "PNGDone:  33\n",
      "PNGDone:  00\n",
      "PNGDone:  12\n",
      "PNGDone:  40\n"
     ]
    },
    {
     "name": "stderr",
     "output_type": "stream",
     "text": [
      "WARNING:googleapiclient.http:Sleeping 2.00 seconds before retry 1 of 5 for request: POST https://earthengine-highvolume.googleapis.com/v1/projects/1023951294628/thumbnails?fields=name&alt=json, after 429\n",
      "WARNING:googleapiclient.http:Sleeping 0.05 seconds before retry 1 of 5 for request: POST https://earthengine-highvolume.googleapis.com/v1/projects/1023951294628/thumbnails?fields=name&alt=json, after 429\n",
      "WARNING:googleapiclient.http:Sleeping 0.72 seconds before retry 1 of 5 for request: POST https://earthengine-highvolume.googleapis.com/v1/projects/1023951294628/thumbnails?fields=name&alt=json, after 429\n",
      "WARNING:googleapiclient.http:Sleeping 0.22 seconds before retry 1 of 5 for request: POST https://earthengine-highvolume.googleapis.com/v1/projects/1023951294628/thumbnails?fields=name&alt=json, after 429\n",
      "WARNING:urllib3.connectionpool:Connection pool is full, discarding connection: earthengine-highvolume.googleapis.com. Connection pool size: 10\n",
      "WARNING:urllib3.connectionpool:Connection pool is full, discarding connection: earthengine-highvolume.googleapis.com. Connection pool size: 10\n",
      "WARNING:urllib3.connectionpool:Connection pool is full, discarding connection: earthengine-highvolume.googleapis.com. Connection pool size: 10\n",
      "WARNING:urllib3.connectionpool:Connection pool is full, discarding connection: earthengine-highvolume.googleapis.com. Connection pool size: 10\n",
      "WARNING:urllib3.connectionpool:Connection pool is full, discarding connection: earthengine-highvolume.googleapis.com. Connection pool size: 10\n",
      "WARNING:urllib3.connectionpool:Connection pool is full, discarding connection: earthengine-highvolume.googleapis.com. Connection pool size: 10\n",
      "WARNING:urllib3.connectionpool:Connection pool is full, discarding connection: earthengine-highvolume.googleapis.com. Connection pool size: 10\n",
      "WARNING:urllib3.connectionpool:Connection pool is full, discarding connection: earthengine-highvolume.googleapis.com. Connection pool size: 10\n",
      "WARNING:urllib3.connectionpool:Connection pool is full, discarding connection: earthengine-highvolume.googleapis.com. Connection pool size: 10\n",
      "WARNING:urllib3.connectionpool:Connection pool is full, discarding connection: earthengine-highvolume.googleapis.com. Connection pool size: 10\n",
      "WARNING:urllib3.connectionpool:Connection pool is full, discarding connection: earthengine-highvolume.googleapis.com. Connection pool size: 10\n",
      "WARNING:urllib3.connectionpool:Connection pool is full, discarding connection: earthengine-highvolume.googleapis.com. Connection pool size: 10\n",
      "WARNING:urllib3.connectionpool:Connection pool is full, discarding connection: earthengine-highvolume.googleapis.com. Connection pool size: 9\n",
      "WARNING:urllib3.connectionpool:Connection pool is full, discarding connection: earthengine-highvolume.googleapis.com. Connection pool size: 10\n",
      "WARNING:urllib3.connectionpool:Connection pool is full, discarding connection: earthengine-highvolume.googleapis.com. Connection pool size: 10\n",
      "WARNING:urllib3.connectionpool:Connection pool is full, discarding connection: earthengine-highvolume.googleapis.com. Connection pool size: 10\n",
      "WARNING:urllib3.connectionpool:Connection pool is full, discarding connection: earthengine-highvolume.googleapis.com. Connection pool size: 10\n",
      "WARNING:urllib3.connectionpool:Connection pool is full, discarding connection: earthengine-highvolume.googleapis.com. Connection pool size: 10\n",
      "WARNING:urllib3.connectionpool:Connection pool is full, discarding connection: earthengine-highvolume.googleapis.com. Connection pool size: 10\n",
      "WARNING:urllib3.connectionpool:Connection pool is full, discarding connection: earthengine-highvolume.googleapis.com. Connection pool size: 10\n",
      "WARNING:urllib3.connectionpool:Connection pool is full, discarding connection: earthengine-highvolume.googleapis.com. Connection pool size: 10\n",
      "WARNING:urllib3.connectionpool:Connection pool is full, discarding connection: earthengine-highvolume.googleapis.com. Connection pool size: 10\n",
      "WARNING:urllib3.connectionpool:Connection pool is full, discarding connection: earthengine-highvolume.googleapis.com. Connection pool size: 10\n",
      "WARNING:urllib3.connectionpool:Connection pool is full, discarding connection: earthengine-highvolume.googleapis.com. Connection pool size: 10\n",
      "WARNING:urllib3.connectionpool:Connection pool is full, discarding connection: earthengine-highvolume.googleapis.com. Connection pool size: 10\n",
      "WARNING:urllib3.connectionpool:Connection pool is full, discarding connection: earthengine-highvolume.googleapis.com. Connection pool size: 10\n",
      "WARNING:urllib3.connectionpool:Connection pool is full, discarding connection: earthengine-highvolume.googleapis.com. Connection pool size: 10\n",
      "WARNING:urllib3.connectionpool:Connection pool is full, discarding connection: earthengine-highvolume.googleapis.com. Connection pool size: 10\n",
      "WARNING:urllib3.connectionpool:Connection pool is full, discarding connection: earthengine-highvolume.googleapis.com. Connection pool size: 10\n",
      "WARNING:urllib3.connectionpool:Connection pool is full, discarding connection: earthengine-highvolume.googleapis.com. Connection pool size: 10\n",
      "WARNING:urllib3.connectionpool:Connection pool is full, discarding connection: earthengine-highvolume.googleapis.com. Connection pool size: 10\n",
      "WARNING:urllib3.connectionpool:Connection pool is full, discarding connection: earthengine-highvolume.googleapis.com. Connection pool size: 10\n",
      "WARNING:urllib3.connectionpool:Connection pool is full, discarding connection: earthengine-highvolume.googleapis.com. Connection pool size: 10\n"
     ]
    },
    {
     "name": "stdout",
     "output_type": "stream",
     "text": [
      "FifDone:  04\n",
      "FifDone:  08\n",
      "FifDone:  05\n",
      "FifDone:  34\n",
      "FifDone:  22\n",
      "FifDone:  02\n",
      "FifDone:  00\n",
      "FifDone:  25\n",
      "FifDone:  29\n",
      "FifDone:  18\n",
      "FifDone:  27\n",
      "FifDone:  40\n",
      "FifDone:  28\n",
      "FifDone:  06\n",
      "FifDone:  32\n",
      "FifDone:  42\n",
      "FifDone:  38\n",
      "FifDone:  07\n",
      "FifDone:  37\n",
      "FifDone:  09\n",
      "FifDone:  03\n",
      "FifDone:  01\n",
      "FifDone:  31\n",
      "FifDone:  12\n",
      "FifDone:  36\n",
      "FifDone:  14\n",
      "FifDone:  26\n",
      "FifDone:  21\n",
      "FifDone:  17\n",
      "FifDone:  24\n",
      "FifDone:  33\n",
      "FifDone:  35\n",
      "FifDone:  13\n",
      "FifDone:  10\n",
      "FifDone:  30\n",
      "FifDone:  19\n",
      "FifDone:  16\n",
      "FifDone:  11\n",
      "FifDone:  20\n",
      "FifDone:  41\n",
      "FifDone:  15\n",
      "FifDone:  23\n",
      "FifDone:  39\n"
     ]
    },
    {
     "name": "stderr",
     "output_type": "stream",
     "text": [
      "WARNING:urllib3.connectionpool:Connection pool is full, discarding connection: oauth2.googleapis.com. Connection pool size: 10\n",
      "WARNING:urllib3.connectionpool:Connection pool is full, discarding connection: oauth2.googleapis.com. Connection pool size: 10\n",
      "WARNING:urllib3.connectionpool:Connection pool is full, discarding connection: oauth2.googleapis.com. Connection pool size: 10\n",
      "WARNING:urllib3.connectionpool:Connection pool is full, discarding connection: oauth2.googleapis.com. Connection pool size: 10\n",
      "WARNING:urllib3.connectionpool:Connection pool is full, discarding connection: oauth2.googleapis.com. Connection pool size: 10\n",
      "WARNING:urllib3.connectionpool:Connection pool is full, discarding connection: oauth2.googleapis.com. Connection pool size: 10\n",
      "WARNING:urllib3.connectionpool:Connection pool is full, discarding connection: oauth2.googleapis.com. Connection pool size: 10\n",
      "WARNING:urllib3.connectionpool:Connection pool is full, discarding connection: oauth2.googleapis.com. Connection pool size: 10\n",
      "WARNING:urllib3.connectionpool:Connection pool is full, discarding connection: oauth2.googleapis.com. Connection pool size: 10\n",
      "WARNING:urllib3.connectionpool:Connection pool is full, discarding connection: oauth2.googleapis.com. Connection pool size: 10\n",
      "WARNING:urllib3.connectionpool:Connection pool is full, discarding connection: oauth2.googleapis.com. Connection pool size: 10\n",
      "WARNING:urllib3.connectionpool:Connection pool is full, discarding connection: oauth2.googleapis.com. Connection pool size: 10\n",
      "WARNING:urllib3.connectionpool:Connection pool is full, discarding connection: oauth2.googleapis.com. Connection pool size: 10\n",
      "WARNING:urllib3.connectionpool:Connection pool is full, discarding connection: oauth2.googleapis.com. Connection pool size: 10\n",
      "WARNING:urllib3.connectionpool:Connection pool is full, discarding connection: oauth2.googleapis.com. Connection pool size: 10\n",
      "WARNING:urllib3.connectionpool:Connection pool is full, discarding connection: oauth2.googleapis.com. Connection pool size: 10\n",
      "WARNING:urllib3.connectionpool:Connection pool is full, discarding connection: oauth2.googleapis.com. Connection pool size: 10\n",
      "WARNING:urllib3.connectionpool:Connection pool is full, discarding connection: oauth2.googleapis.com. Connection pool size: 10\n",
      "WARNING:urllib3.connectionpool:Connection pool is full, discarding connection: oauth2.googleapis.com. Connection pool size: 10\n",
      "WARNING:urllib3.connectionpool:Connection pool is full, discarding connection: oauth2.googleapis.com. Connection pool size: 10\n",
      "WARNING:urllib3.connectionpool:Connection pool is full, discarding connection: oauth2.googleapis.com. Connection pool size: 10\n",
      "WARNING:urllib3.connectionpool:Connection pool is full, discarding connection: oauth2.googleapis.com. Connection pool size: 10\n",
      "WARNING:urllib3.connectionpool:Connection pool is full, discarding connection: oauth2.googleapis.com. Connection pool size: 10\n",
      "WARNING:urllib3.connectionpool:Connection pool is full, discarding connection: oauth2.googleapis.com. Connection pool size: 10\n",
      "WARNING:urllib3.connectionpool:Connection pool is full, discarding connection: oauth2.googleapis.com. Connection pool size: 10\n",
      "WARNING:urllib3.connectionpool:Connection pool is full, discarding connection: oauth2.googleapis.com. Connection pool size: 10\n",
      "WARNING:urllib3.connectionpool:Connection pool is full, discarding connection: oauth2.googleapis.com. Connection pool size: 10\n",
      "WARNING:urllib3.connectionpool:Connection pool is full, discarding connection: oauth2.googleapis.com. Connection pool size: 10\n",
      "WARNING:urllib3.connectionpool:Connection pool is full, discarding connection: oauth2.googleapis.com. Connection pool size: 10\n",
      "WARNING:urllib3.connectionpool:Connection pool is full, discarding connection: oauth2.googleapis.com. Connection pool size: 10\n",
      "WARNING:urllib3.connectionpool:Connection pool is full, discarding connection: oauth2.googleapis.com. Connection pool size: 10\n",
      "WARNING:urllib3.connectionpool:Connection pool is full, discarding connection: oauth2.googleapis.com. Connection pool size: 10\n",
      "WARNING:urllib3.connectionpool:Connection pool is full, discarding connection: oauth2.googleapis.com. Connection pool size: 10\n"
     ]
    },
    {
     "name": "stdout",
     "output_type": "stream",
     "text": [
      "ShpDone:  01\n",
      "ShpDone:  21\n"
     ]
    },
    {
     "name": "stderr",
     "output_type": "stream",
     "text": [
      "WARNING:urllib3.connectionpool:Connection pool is full, discarding connection: earthengine-highvolume.googleapis.com. Connection pool size: 10\n",
      "WARNING:urllib3.connectionpool:Connection pool is full, discarding connection: earthengine-highvolume.googleapis.com. Connection pool size: 10\n"
     ]
    },
    {
     "name": "stdout",
     "output_type": "stream",
     "text": [
      "ShpDone:  08\n",
      "ShpDone:  22\n",
      "ShpDone:  24\n",
      "ShpDone:  33\n",
      "ShpDone:  06\n"
     ]
    },
    {
     "name": "stderr",
     "output_type": "stream",
     "text": [
      "WARNING:urllib3.connectionpool:Connection pool is full, discarding connection: earthengine-highvolume.googleapis.com. Connection pool size: 10\n",
      "WARNING:urllib3.connectionpool:Connection pool is full, discarding connection: earthengine-highvolume.googleapis.com. Connection pool size: 10\n",
      "WARNING:urllib3.connectionpool:Connection pool is full, discarding connection: earthengine-highvolume.googleapis.com. Connection pool size: 10\n"
     ]
    },
    {
     "name": "stdout",
     "output_type": "stream",
     "text": [
      "ShpDone:  17\n",
      "ShpDone:  16\n",
      "ShpDone:  39\n",
      "ShpDone:  15\n",
      "ShpDone:  40\n",
      "ShpDone:  31\n"
     ]
    },
    {
     "name": "stderr",
     "output_type": "stream",
     "text": [
      "WARNING:urllib3.connectionpool:Connection pool is full, discarding connection: earthengine-highvolume.googleapis.com. Connection pool size: 10\n",
      "WARNING:urllib3.connectionpool:Connection pool is full, discarding connection: earthengine-highvolume.googleapis.com. Connection pool size: 10\n",
      "WARNING:urllib3.connectionpool:Connection pool is full, discarding connection: earthengine-highvolume.googleapis.com. Connection pool size: 10\n"
     ]
    },
    {
     "name": "stdout",
     "output_type": "stream",
     "text": [
      "ShpDone:  28\n",
      "ShpDone:  20\n"
     ]
    },
    {
     "name": "stderr",
     "output_type": "stream",
     "text": [
      "WARNING:urllib3.connectionpool:Connection pool is full, discarding connection: earthengine-highvolume.googleapis.com. Connection pool size: 10\n",
      "WARNING:urllib3.connectionpool:Connection pool is full, discarding connection: earthengine-highvolume.googleapis.com. Connection pool size: 10\n"
     ]
    },
    {
     "name": "stdout",
     "output_type": "stream",
     "text": [
      "ShpDone:  00\n",
      "ShpDone:  13\n"
     ]
    },
    {
     "name": "stderr",
     "output_type": "stream",
     "text": [
      "WARNING:urllib3.connectionpool:Connection pool is full, discarding connection: earthengine-highvolume.googleapis.com. Connection pool size: 10\n",
      "WARNING:urllib3.connectionpool:Connection pool is full, discarding connection: earthengine-highvolume.googleapis.com. Connection pool size: 10\n"
     ]
    },
    {
     "name": "stdout",
     "output_type": "stream",
     "text": [
      "ShpDone:  26\n"
     ]
    },
    {
     "name": "stderr",
     "output_type": "stream",
     "text": [
      "WARNING:urllib3.connectionpool:Connection pool is full, discarding connection: earthengine-highvolume.googleapis.com. Connection pool size: 10\n",
      "WARNING:urllib3.connectionpool:Connection pool is full, discarding connection: earthengine-highvolume.googleapis.com. Connection pool size: 10\n"
     ]
    },
    {
     "name": "stdout",
     "output_type": "stream",
     "text": [
      "ShpDone:  19\n",
      "ShpDone:  03\n",
      "ShpDone:  34\n"
     ]
    },
    {
     "name": "stderr",
     "output_type": "stream",
     "text": [
      "WARNING:urllib3.connectionpool:Connection pool is full, discarding connection: earthengine-highvolume.googleapis.com. Connection pool size: 10\n",
      "WARNING:urllib3.connectionpool:Connection pool is full, discarding connection: earthengine-highvolume.googleapis.com. Connection pool size: 10\n"
     ]
    },
    {
     "name": "stdout",
     "output_type": "stream",
     "text": [
      "ShpDone:  04\n"
     ]
    },
    {
     "name": "stderr",
     "output_type": "stream",
     "text": [
      "WARNING:urllib3.connectionpool:Connection pool is full, discarding connection: earthengine-highvolume.googleapis.com. Connection pool size: 10\n",
      "WARNING:urllib3.connectionpool:Connection pool is full, discarding connection: earthengine-highvolume.googleapis.com. Connection pool size: 10\n",
      "WARNING:urllib3.connectionpool:Connection pool is full, discarding connection: earthengine-highvolume.googleapis.com. Connection pool size: 10\n"
     ]
    },
    {
     "name": "stdout",
     "output_type": "stream",
     "text": [
      "ShpDone:  07\n",
      "ShpDone:  32\n",
      "ShpDone:  09\n",
      "ShpDone:  25\n"
     ]
    },
    {
     "name": "stderr",
     "output_type": "stream",
     "text": [
      "WARNING:urllib3.connectionpool:Connection pool is full, discarding connection: earthengine-highvolume.googleapis.com. Connection pool size: 10\n",
      "WARNING:urllib3.connectionpool:Connection pool is full, discarding connection: earthengine-highvolume.googleapis.com. Connection pool size: 10\n"
     ]
    },
    {
     "name": "stdout",
     "output_type": "stream",
     "text": [
      "ShpDone:  29\n"
     ]
    },
    {
     "name": "stderr",
     "output_type": "stream",
     "text": [
      "WARNING:urllib3.connectionpool:Connection pool is full, discarding connection: earthengine-highvolume.googleapis.com. Connection pool size: 10\n",
      "WARNING:urllib3.connectionpool:Connection pool is full, discarding connection: earthengine-highvolume.googleapis.com. Connection pool size: 10\n"
     ]
    },
    {
     "name": "stdout",
     "output_type": "stream",
     "text": [
      "ShpDone: ShpDone:  41\n",
      " 10\n",
      "ShpDone:  42\n"
     ]
    },
    {
     "name": "stderr",
     "output_type": "stream",
     "text": [
      "WARNING:urllib3.connectionpool:Connection pool is full, discarding connection: earthengine-highvolume.googleapis.com. Connection pool size: 10\n",
      "WARNING:urllib3.connectionpool:Connection pool is full, discarding connection: earthengine-highvolume.googleapis.com. Connection pool size: 10\n",
      "WARNING:urllib3.connectionpool:Connection pool is full, discarding connection: earthengine-highvolume.googleapis.com. Connection pool size: 10\n",
      "WARNING:urllib3.connectionpool:Connection pool is full, discarding connection: earthengine-highvolume.googleapis.com. Connection pool size: 10\n"
     ]
    },
    {
     "name": "stdout",
     "output_type": "stream",
     "text": [
      "ShpDone:  05\n",
      "ShpDone:  23\n",
      "ShpDone:  27\n"
     ]
    },
    {
     "name": "stderr",
     "output_type": "stream",
     "text": [
      "WARNING:urllib3.connectionpool:Connection pool is full, discarding connection: earthengine-highvolume.googleapis.com. Connection pool size: 10\n"
     ]
    },
    {
     "name": "stdout",
     "output_type": "stream",
     "text": [
      "ShpDone:  30\n",
      "ShpDone:  14\n"
     ]
    },
    {
     "name": "stderr",
     "output_type": "stream",
     "text": [
      "WARNING:urllib3.connectionpool:Connection pool is full, discarding connection: earthengine-highvolume.googleapis.com. Connection pool size: 10\n",
      "WARNING:urllib3.connectionpool:Connection pool is full, discarding connection: earthengine-highvolume.googleapis.com. Connection pool size: 10\n",
      "WARNING:urllib3.connectionpool:Connection pool is full, discarding connection: earthengine-highvolume.googleapis.com. Connection pool size: 10\n",
      "WARNING:urllib3.connectionpool:Connection pool is full, discarding connection: earthengine-highvolume.googleapis.com. Connection pool size: 10\n"
     ]
    },
    {
     "name": "stdout",
     "output_type": "stream",
     "text": [
      "ShpDone:  38\n",
      "ShpDone:  36\n",
      "ShpDone:  11\n"
     ]
    },
    {
     "name": "stderr",
     "output_type": "stream",
     "text": [
      "WARNING:urllib3.connectionpool:Connection pool is full, discarding connection: earthengine-highvolume.googleapis.com. Connection pool size: 10\n"
     ]
    },
    {
     "name": "stdout",
     "output_type": "stream",
     "text": [
      "ShpDone:  37\n",
      "ShpDone:  18\n",
      "ShpDone:  35\n",
      "ShpDone:  02\n",
      "ShpDone:  12\n",
      "CPU times: total: 15.4 s\n",
      "Wall time: 46.5 s\n"
     ]
    },
    {
     "data": {
      "text/plain": [
       "[None,\n",
       " None,\n",
       " None,\n",
       " None,\n",
       " None,\n",
       " None,\n",
       " None,\n",
       " None,\n",
       " None,\n",
       " None,\n",
       " None,\n",
       " None,\n",
       " None,\n",
       " None,\n",
       " None,\n",
       " None,\n",
       " None,\n",
       " None,\n",
       " None,\n",
       " None,\n",
       " None,\n",
       " None,\n",
       " None,\n",
       " None,\n",
       " None,\n",
       " None,\n",
       " None,\n",
       " None,\n",
       " None,\n",
       " None,\n",
       " None,\n",
       " None,\n",
       " None,\n",
       " None,\n",
       " None,\n",
       " None,\n",
       " None,\n",
       " None,\n",
       " None,\n",
       " None,\n",
       " None,\n",
       " None,\n",
       " None]"
      ]
     },
     "execution_count": 295,
     "metadata": {},
     "output_type": "execute_result"
    }
   ],
   "source": [
    "%%time\n",
    "\n",
    "logging.basicConfig()\n",
    "items = getRequests()\n",
    "\n",
    "Parallel(n_jobs=300,backend='threading')(delayed(getPNGResult)(i, item) for i, item in enumerate(items))\n",
    "Parallel(n_jobs=300,backend='threading')(delayed(getTifResult)(i, item) for i, item in enumerate(items))\n",
    "Parallel(n_jobs=300,backend='threading')(delayed(getShpResult)(i, item) for i, item in enumerate(items))"
   ]
  },
  {
   "cell_type": "markdown",
   "id": "25",
   "metadata": {},
   "source": [
    "### Retrieve sample points"
   ]
  },
  {
   "cell_type": "code",
   "execution_count": 292,
   "id": "2f8700c7",
   "metadata": {},
   "outputs": [
    {
     "data": {
      "text/html": [
       "\n",
       "            <style>\n",
       "                .geemap-dark {\n",
       "                    --jp-widgets-color: white;\n",
       "                    --jp-widgets-label-color: white;\n",
       "                    --jp-ui-font-color1: white;\n",
       "                    --jp-layout-color2: #454545;\n",
       "                    background-color: #383838;\n",
       "                }\n",
       "\n",
       "                .geemap-dark .jupyter-button {\n",
       "                    --jp-layout-color3: #383838;\n",
       "                }\n",
       "\n",
       "                .geemap-colab {\n",
       "                    background-color: var(--colab-primary-surface-color, white);\n",
       "                }\n",
       "\n",
       "                .geemap-colab .jupyter-button {\n",
       "                    --jp-layout-color3: var(--colab-primary-surface-color, white);\n",
       "                }\n",
       "            </style>\n",
       "            "
      ],
      "text/plain": [
       "<IPython.core.display.HTML object>"
      ]
     },
     "metadata": {},
     "output_type": "display_data"
    },
    {
     "data": {
      "text/plain": [
       "43"
      ]
     },
     "execution_count": 292,
     "metadata": {},
     "output_type": "execute_result"
    }
   ],
   "source": [
    "len(getRequests())"
   ]
  },
  {
   "cell_type": "code",
   "execution_count": 293,
   "id": "26",
   "metadata": {},
   "outputs": [
    {
     "data": {
      "text/html": [
       "\n",
       "            <style>\n",
       "                .geemap-dark {\n",
       "                    --jp-widgets-color: white;\n",
       "                    --jp-widgets-label-color: white;\n",
       "                    --jp-ui-font-color1: white;\n",
       "                    --jp-layout-color2: #454545;\n",
       "                    background-color: #383838;\n",
       "                }\n",
       "\n",
       "                .geemap-dark .jupyter-button {\n",
       "                    --jp-layout-color3: #383838;\n",
       "                }\n",
       "\n",
       "                .geemap-colab {\n",
       "                    background-color: var(--colab-primary-surface-color, white);\n",
       "                }\n",
       "\n",
       "                .geemap-colab .jupyter-button {\n",
       "                    --jp-layout-color3: var(--colab-primary-surface-color, white);\n",
       "                }\n",
       "            </style>\n",
       "            "
      ],
      "text/plain": [
       "<IPython.core.display.HTML object>"
      ]
     },
     "metadata": {},
     "output_type": "display_data"
    },
    {
     "data": {
      "application/vnd.jupyter.widget-view+json": {
       "model_id": "022dfe4b5a824a01985eb6e96bc2ad71",
       "version_major": 2,
       "version_minor": 0
      },
      "text/plain": [
       "Map(bottom=1084470.0, center=[-6.098566720373314, -254.6183784841624], controls=(WidgetControl(options=['posit…"
      ]
     },
     "execution_count": 293,
     "metadata": {},
     "output_type": "execute_result"
    }
   ],
   "source": [
    "Map.addLayer(Map.data, {}, \"Sample points\")\n",
    "Map"
   ]
  },
  {
   "cell_type": "code",
   "execution_count": 79,
   "id": "c59b152e",
   "metadata": {},
   "outputs": [
    {
     "data": {
      "text/html": [
       "\n",
       "            <style>\n",
       "                .geemap-dark {\n",
       "                    --jp-widgets-color: white;\n",
       "                    --jp-widgets-label-color: white;\n",
       "                    --jp-ui-font-color1: white;\n",
       "                    --jp-layout-color2: #454545;\n",
       "                    background-color: #383838;\n",
       "                }\n",
       "\n",
       "                .geemap-dark .jupyter-button {\n",
       "                    --jp-layout-color3: #383838;\n",
       "                }\n",
       "\n",
       "                .geemap-colab {\n",
       "                    background-color: var(--colab-primary-surface-color, white);\n",
       "                }\n",
       "\n",
       "                .geemap-colab .jupyter-button {\n",
       "                    --jp-layout-color3: var(--colab-primary-surface-color, white);\n",
       "                }\n",
       "            </style>\n",
       "            "
      ],
      "text/plain": [
       "<IPython.core.display.HTML object>"
      ]
     },
     "metadata": {},
     "output_type": "display_data"
    },
    {
     "name": "stdout",
     "output_type": "stream",
     "text": [
      "Overwriting SDGMP.py\n"
     ]
    }
   ],
   "source": [
    "%%writefile SDGMP.py\n",
    "import ee\n",
    "import geemap\n",
    "import logging\n",
    "import multiprocessing\n",
    "import os\n",
    "import requests\n",
    "import shutil\n",
    "from retry import retry\n",
    "\n",
    "# ee.Initialize(opt_url=\"https://earthengine-highvolume.googleapis.com\")\n",
    "\n",
    "@retry(tries=10, delay=1, backoff=2)\n",
    "def getResult(kws):\n",
    "    # 解包参数\n",
    "    index = kws['index']\n",
    "    item = kws['item']\n",
    "    region = kws['region']\n",
    "    image = kws['image']\n",
    "    params = kws['params']\n",
    "    \n",
    "    point = ee.Geometry.Point(item[\"coordinates\"])\n",
    "    region = point.buffer(params[\"buffer\"]).bounds()\n",
    "\n",
    "    if params[\"format\"] in [\"png\", \"jpg\"]:\n",
    "        url = image.getThumbURL(\n",
    "            {\n",
    "                \"region\": region,\n",
    "                \"dimensions\": params[\"dimensions\"],\n",
    "                \"format\": params[\"format\"],\n",
    "            }\n",
    "        )\n",
    "    else:\n",
    "        url = image.getDownloadURL(\n",
    "            {\n",
    "                \"region\": region,\n",
    "                \"dimensions\": params[\"dimensions\"],\n",
    "                \"format\": params[\"format\"],\n",
    "            }\n",
    "        )\n",
    "\n",
    "    if params[\"format\"] == \"GEO_TIFF\":\n",
    "        ext = \"tif\"\n",
    "    else:\n",
    "        ext = params[\"format\"]\n",
    "    print(\"URL\", url)\n",
    "\n",
    "    r = requests.get(url, stream=True)\n",
    "    if r.status_code != 200:\n",
    "        r.raise_for_status()\n",
    "\n",
    "    out_dir = os.path.abspath(params[\"out_dir\"])\n",
    "    basename = str(index).zfill(len(str(params[\"count\"])))\n",
    "    filename = f\"{out_dir}/{params['prefix']}{basename}.{ext}\"\n",
    "    with open(filename, \"wb\") as out_file:\n",
    "        shutil.copyfileobj(r.raw, out_file)\n",
    "    print(\"Done: \", basename)"
   ]
  },
  {
   "cell_type": "code",
   "execution_count": 8,
   "id": "fbfab361",
   "metadata": {},
   "outputs": [
    {
     "data": {
      "text/html": [
       "\n",
       "            <style>\n",
       "                .geemap-dark {\n",
       "                    --jp-widgets-color: white;\n",
       "                    --jp-widgets-label-color: white;\n",
       "                    --jp-ui-font-color1: white;\n",
       "                    --jp-layout-color2: #454545;\n",
       "                    background-color: #383838;\n",
       "                }\n",
       "\n",
       "                .geemap-dark .jupyter-button {\n",
       "                    --jp-layout-color3: #383838;\n",
       "                }\n",
       "\n",
       "                .geemap-colab {\n",
       "                    background-color: var(--colab-primary-surface-color, white);\n",
       "                }\n",
       "\n",
       "                .geemap-colab .jupyter-button {\n",
       "                    --jp-layout-color3: var(--colab-primary-surface-color, white);\n",
       "                }\n",
       "            </style>\n",
       "            "
      ],
      "text/plain": [
       "<IPython.core.display.HTML object>"
      ]
     },
     "metadata": {},
     "output_type": "display_data"
    },
    {
     "name": "stdout",
     "output_type": "stream",
     "text": [
      "Overwriting SDGPartial.py\n"
     ]
    }
   ],
   "source": [
    "%%writefile SDGPartial.py\n",
    "import ee\n",
    "import geemap\n",
    "import logging\n",
    "import multiprocessing\n",
    "import os\n",
    "import requests\n",
    "import shutil\n",
    "from retry import retry\n",
    "\n",
    "ee.Initialize(opt_url=\"https://earthengine-highvolume.googleapis.com\")\n",
    "\n",
    "@retry(tries=10, delay=1, backoff=2)\n",
    "def getResult(index, item,*,region, image, params):\n",
    "    \n",
    "    point = ee.Geometry.Point(item[\"coordinates\"])\n",
    "    region = point.buffer(params[\"buffer\"]).bounds()\n",
    "\n",
    "    if params[\"format\"] in [\"png\", \"jpg\"]:\n",
    "        url = image.getThumbURL(\n",
    "            {\n",
    "                \"region\": region,\n",
    "                \"dimensions\": params[\"dimensions\"],\n",
    "                \"format\": params[\"format\"],\n",
    "            }\n",
    "        )\n",
    "    else:\n",
    "        url = image.getDownloadURL(\n",
    "            {\n",
    "                \"region\": region,\n",
    "                \"dimensions\": params[\"dimensions\"],\n",
    "                \"format\": params[\"format\"],\n",
    "            }\n",
    "        )\n",
    "\n",
    "    if params[\"format\"] == \"GEO_TIFF\":\n",
    "        ext = \"tif\"\n",
    "    else:\n",
    "        ext = params[\"format\"]\n",
    "    print(\"URL\", url)\n",
    "\n",
    "    r = requests.get(url, stream=True)\n",
    "    if r.status_code != 200:\n",
    "        r.raise_for_status()\n",
    "\n",
    "    out_dir = os.path.abspath(params[\"out_dir\"])\n",
    "    basename = str(index).zfill(len(str(params[\"count\"])))\n",
    "    filename = f\"{out_dir}/{params['prefix']}{basename}.{ext}\"\n",
    "    with open(filename, \"wb\") as out_file:\n",
    "        shutil.copyfileobj(r.raw, out_file)\n",
    "    print(\"Done: \", basename)"
   ]
  },
  {
   "cell_type": "markdown",
   "id": "03fab7ec",
   "metadata": {},
   "source": [
    "因为jupyter不支持对进程调用，这步的目的是保存一个py文件方便调用"
   ]
  },
  {
   "cell_type": "code",
   "execution_count": null,
   "id": "7a21a1da",
   "metadata": {},
   "outputs": [
    {
     "data": {
      "text/html": [
       "\n",
       "            <style>\n",
       "                .geemap-dark {\n",
       "                    --jp-widgets-color: white;\n",
       "                    --jp-widgets-label-color: white;\n",
       "                    --jp-ui-font-color1: white;\n",
       "                    --jp-layout-color2: #454545;\n",
       "                    background-color: #383838;\n",
       "                }\n",
       "\n",
       "                .geemap-dark .jupyter-button {\n",
       "                    --jp-layout-color3: #383838;\n",
       "                }\n",
       "\n",
       "                .geemap-colab {\n",
       "                    background-color: var(--colab-primary-surface-color, white);\n",
       "                }\n",
       "\n",
       "                .geemap-colab .jupyter-button {\n",
       "                    --jp-layout-color3: var(--colab-primary-surface-color, white);\n",
       "                }\n",
       "            </style>\n",
       "            "
      ],
      "text/plain": [
       "<IPython.core.display.HTML object>"
      ]
     },
     "metadata": {},
     "output_type": "display_data"
    }
   ],
   "source": [
    "%%time\n",
    "# 导入外部文件中的函数\n",
    "import SDGMP\n",
    "# from functools import partial\n",
    "# 创建偏函数，固定住 region, image, params,\n",
    "# kwargs = {'region': region, 'image': image, 'params': params}\n",
    "# getResult_partial = partial(SDGMP.getResult, **kwargs)\n",
    "\n",
    "logging.basicConfig()\n",
    "items = getRequests()\n",
    "\n",
    "# 准备参数字典列表\n",
    "kws_list = (\n",
    "    {\n",
    "        'index': index,\n",
    "        'item': item,\n",
    "        'region': region,\n",
    "        'image': image,\n",
    "        'params': params\n",
    "    }\n",
    "    for index, item in enumerate(items)\n",
    ")\n",
    "\n",
    "pool = multiprocessing.Pool(25)\n",
    "pool.map(SDGMP.getResult, kws_list)\n",
    "\n",
    "pool.close()\n",
    "\n"
   ]
  },
  {
   "cell_type": "markdown",
   "id": "b18689f2",
   "metadata": {},
   "source": [
    "# from functools import partial"
   ]
  },
  {
   "cell_type": "code",
   "execution_count": 10,
   "id": "d7ab1501",
   "metadata": {},
   "outputs": [
    {
     "data": {
      "text/html": [
       "\n",
       "            <style>\n",
       "                .geemap-dark {\n",
       "                    --jp-widgets-color: white;\n",
       "                    --jp-widgets-label-color: white;\n",
       "                    --jp-ui-font-color1: white;\n",
       "                    --jp-layout-color2: #454545;\n",
       "                    background-color: #383838;\n",
       "                }\n",
       "\n",
       "                .geemap-dark .jupyter-button {\n",
       "                    --jp-layout-color3: #383838;\n",
       "                }\n",
       "\n",
       "                .geemap-colab {\n",
       "                    background-color: var(--colab-primary-surface-color, white);\n",
       "                }\n",
       "\n",
       "                .geemap-colab .jupyter-button {\n",
       "                    --jp-layout-color3: var(--colab-primary-surface-color, white);\n",
       "                }\n",
       "            </style>\n",
       "            "
      ],
      "text/plain": [
       "<IPython.core.display.HTML object>"
      ]
     },
     "metadata": {},
     "output_type": "display_data"
    },
    {
     "name": "stdout",
     "output_type": "stream",
     "text": [
      "CPU times: total: 156 ms\n",
      "Wall time: 1min 20s\n"
     ]
    }
   ],
   "source": [
    "%%time\n",
    "# 导入外部文件中的函数\n",
    "import SDGPartial\n",
    "from functools import partial\n",
    "# 创建偏函数，固定住 region, image, params,\n",
    "kwargs = {'region': region, 'image': image, 'params': params}\n",
    "getResult_partial = partial(SDGPartial.getResult, **kwargs)\n",
    "\n",
    "logging.basicConfig()\n",
    "items = getRequests()\n",
    "\n",
    "pool = multiprocessing.Pool(25)\n",
    "pool.starmap(getResult_partial, enumerate(items))\n",
    "\n",
    "pool.close()\n",
    "\n"
   ]
  },
  {
   "cell_type": "code",
   "execution_count": null,
   "id": "ec2c8fec",
   "metadata": {},
   "outputs": [
    {
     "data": {
      "text/html": [
       "\n",
       "            <style>\n",
       "                .geemap-dark {\n",
       "                    --jp-widgets-color: white;\n",
       "                    --jp-widgets-label-color: white;\n",
       "                    --jp-ui-font-color1: white;\n",
       "                    --jp-layout-color2: #454545;\n",
       "                    background-color: #383838;\n",
       "                }\n",
       "\n",
       "                .geemap-dark .jupyter-button {\n",
       "                    --jp-layout-color3: #383838;\n",
       "                }\n",
       "\n",
       "                .geemap-colab {\n",
       "                    background-color: var(--colab-primary-surface-color, white);\n",
       "                }\n",
       "\n",
       "                .geemap-colab .jupyter-button {\n",
       "                    --jp-layout-color3: var(--colab-primary-surface-color, white);\n",
       "                }\n",
       "            </style>\n",
       "            "
      ],
      "text/plain": [
       "<IPython.core.display.HTML object>"
      ]
     },
     "metadata": {},
     "output_type": "display_data"
    },
    {
     "name": "stdout",
     "output_type": "stream",
     "text": [
      "CPU times: total: 172 ms\n",
      "Wall time: 34.3 s\n"
     ]
    }
   ],
   "source": [
    "%%time\n",
    "# 导入外部文件中的函数\n",
    "import SDGMP\n",
    "\n",
    "logging.basicConfig()\n",
    "# items = getRequests()\n",
    "# 创建 items 列表\n",
    "items = [(region, image, params, dic['coordinates']) for dic in getRequests()]\n",
    "\n",
    "pool = multiprocessing.Pool(32)\n",
    "pool.starmap(SDGMP.getResult, enumerate(items))\n",
    "\n",
    "pool.close()\n",
    "\n"
   ]
  }
 ],
 "metadata": {
  "kernelspec": {
   "display_name": "GEE",
   "language": "python",
   "name": "python3"
  },
  "language_info": {
   "codemirror_mode": {
    "name": "ipython",
    "version": 3
   },
   "file_extension": ".py",
   "mimetype": "text/x-python",
   "name": "python",
   "nbconvert_exporter": "python",
   "pygments_lexer": "ipython3",
   "version": "3.11.10"
  }
 },
 "nbformat": 4,
 "nbformat_minor": 5
}
