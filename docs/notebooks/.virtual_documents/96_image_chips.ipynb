


!pip install  retry





import ee
import geemap
import logging
import multiprocessing
import os
import requests
import shutil
from retry import retry


os.environ['HTTP_PROXY'] = 'http://127.0.0.1:7890'
os.environ['HTTPS_PROXY'] = 'https://127.0.0.1:7890'
geemap.set_proxy(port=7890)
ee.Authenticate()
ee.Initialize(project='zhuxiaobo')





ee.Initialize(opt_url="https://earthengine-highvolume.googleapis.com")





Map = geemap.Map()
Map





# region = Map.user_roi
region = ee.Geometry.Polygon(
    [
        [
            [-122.513695, 37.707998],
            [-122.513695, 37.804359],
            [-122.371902, 37.804359],
            [-122.371902, 37.707998],
            [-122.513695, 37.707998],
        ]
    ],
    None,
    False,
)





image = (
    ee.ImageCollection("USDA/NAIP/DOQQ")
    .filterBounds(region)
    .filterDate("2020", "2021")
    .mosaic()
    .clip(region)
    .select("N", "R", "G")
)





# image = ee.ImageCollection('COPERNICUS/S2_SR') \
#             .filterBounds(region) \
#             .filterDate('2021', '2022') \
#             .select('B8', 'B4', 'B3') \
#             .median() \
#             .visualize(min=0, max=4000) \
#             .clip(region)





params = {
    "count": 100,  # How many image chips to export
    "buffer": 127,  # The buffer distance (m) around each point
    "scale": 100,  # The scale to do stratified sampling
    "seed": 1,  # A randomization seed to use for subsampling.
    "dimensions": "256x256",  # The dimension of each image chip
    "format": "png",  # The output image format, can be png, jpg, ZIPPED_GEO_TIFF, GEO_TIFF, NPY
    "prefix": "tile_",  # The filename prefix
    "processes": 25,  # How many processes to used for parallel processing
    "out_dir": "E:/GEETest",  # The output directory. Default to the current working directly
}





Map.addLayer(image, {}, "Image")
Map.addLayer(region, {}, "ROI", False)
Map.setCenter(-122.4415, 37.7555, 12)
Map





def getRequests():
    img = ee.Image(1).rename("Class").addBands(image)
    points = img.stratifiedSample(
        numPoints=params["count"],
        region=region,
        scale=params["scale"],
        seed=params["seed"],
        geometries=True,
    )
    Map.data = points
    return points.aggregate_array(".geo").getInfo()








@retry(tries=10, delay=1, backoff=2)
def getResult(index, point):
    point = ee.Geometry.Point(point["coordinates"])
    region = point.buffer(params["buffer"]).bounds()

    if params["format"] in ["png", "jpg"]:
        url = image.getThumbURL(
            {
                "region": region,
                "dimensions": params["dimensions"],
                "format": params["format"],
            }
        )
    else:
        url = image.getDownloadURL(
            {
                "region": region,
                "dimensions": params["dimensions"],
                "format": params["format"],
            }
        )

    if params["format"] == "GEO_TIFF":
        ext = "tif"
    else:
        ext = params["format"]

    r = requests.get(url, stream=True)
    if r.status_code != 200:
        r.raise_for_status()

    out_dir = os.path.abspath(params["out_dir"])
    basename = str(index).zfill(len(str(params["count"])))
    filename = f"{out_dir}/{params['prefix']}{basename}.{ext}"
    with open(filename, "wb") as out_file:
        shutil.copyfileobj(r.raw, out_file)
    print("Done: ", basename)





%%time
logging.basicConfig()
items = getRequests()

pool = multiprocessing.Pool(params["processes"])
pool.starmap(getResult, enumerate(items))

pool.close()





Map.addLayer(Map.data, {}, "Sample points")
Map



