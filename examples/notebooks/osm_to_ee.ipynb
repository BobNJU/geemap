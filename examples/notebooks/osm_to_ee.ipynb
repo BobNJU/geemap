{
 "cells": [
  {
   "cell_type": "markdown",
   "metadata": {},
   "source": [
    "## Converting OpenStreetMap data to ee.FeatureCollection\n",
    "\n",
    "Credits to [Erik Seras](https://github.com/giswqs/geemap/discussions/503)."
   ]
  },
  {
   "cell_type": "code",
   "execution_count": 1,
   "metadata": {},
   "outputs": [],
   "source": [
    "# %%capture\n",
    "# # optional\n",
    "# ! sudo add-apt-repository -y ppa:ubuntugis/ubuntugis-unstable\n",
    "# ! sudo apt-get update\n",
    "# ! sudo apt-get install libudunits2-dev libgdal-dev libgeos-dev libproj-dev\n",
    "# ! sudo apt-get install libprotobuf-dev protobuf-compiler libv8-dev libjq-dev\n",
    "\n",
    "# # packages\n",
    "# ! pip install geopandas cartopy osmnx geemap"
   ]
  },
  {
   "cell_type": "code",
   "execution_count": 2,
   "metadata": {},
   "outputs": [],
   "source": [
    "%matplotlib inline\n",
    "\n",
    "# import packages\n",
    "import geopandas as gpd\n",
    "import osmnx as ox\n",
    "import geemap\n",
    "\n",
    "# turn response caching off\n",
    "# ox.config(use_cache=False)\n",
    "\n",
    "# turn it back on and turn on logging to your terminal window\n",
    "# ox.config(use_cache=True, log_console=True)"
   ]
  },
  {
   "cell_type": "code",
   "execution_count": 3,
   "metadata": {},
   "outputs": [
    {
     "data": {
      "application/vnd.jupyter.widget-view+json": {
       "model_id": "135b1ec69aab4777b8cacc36811a3a5f",
       "version_major": 2,
       "version_minor": 0
      },
      "text/plain": [
       "Map(center=[-12.017850010143187, -76.90457605640704], controls=(WidgetControl(options=['position', 'transparen…"
      ]
     },
     "metadata": {},
     "output_type": "display_data"
    }
   ],
   "source": [
    "# Provincia de Lima, Lima, Perú\n",
    "Map = geemap.Map()\n",
    "\n",
    "# #  GeoPandas GeoDataFrame\n",
    "# lima_metropolitana = ox.geocode_to_gdf(\"Provincia de Lima, Lima, Perú\")\n",
    "# # GeoPandas GeoDataFrame to ee.FeatureCollection\n",
    "# lima_metropolitana_ee = geemap.geopandas_to_ee(lima_metropolitana, geodesic=True)\n",
    "\n",
    "lima_metropolitana_ee= geemap.osm_to_ee(\"Provincia de Lima, Lima, Perú\")\n",
    "\n",
    "Map.addLayer(lima_metropolitana_ee, {}, 'Lima Metropolitana, Perú')\n",
    "Map.centerObject(lima_metropolitana_ee, 9)\n",
    "Map"
   ]
  },
  {
   "cell_type": "code",
   "execution_count": 4,
   "metadata": {},
   "outputs": [
    {
     "data": {
      "application/vnd.jupyter.widget-view+json": {
       "model_id": "23eb49bfa7ed404794ac178de590ea7b",
       "version_major": 2,
       "version_minor": 0
      },
      "text/plain": [
       "Map(center=[35.105994846918954, 135.72736924792235], controls=(WidgetControl(options=['position', 'transparent…"
      ]
     },
     "metadata": {},
     "output_type": "display_data"
    }
   ],
   "source": [
    "# '京都市, 日本国\n",
    "Map = geemap.Map()\n",
    "\n",
    "# #  GeoPandas GeoDataFrame\n",
    "# kioto_japon = ox.geocode_to_gdf(\"('京都市, 日本国')\")\n",
    "# # GeoPandas GeoDataFrame to ee.FeatureCollection\n",
    "# kioto_japon_ee = geemap.geopandas_to_ee(kioto_japon, geodesic=True)\n",
    "\n",
    "kioto_japon_ee = geemap.osm_to_ee(\"('京都市, 日本国')\")\n",
    "\n",
    "Map.addLayer(kioto_japon_ee, {}, 'Kioto, Japon')\n",
    "Map.centerObject(kioto_japon_ee, 9)\n",
    "Map"
   ]
  },
  {
   "cell_type": "code",
   "execution_count": null,
   "metadata": {},
   "outputs": [],
   "source": [
    "# Knoxville, Tennessee, United States'\n",
    "Map = geemap.Map()\n",
    "\n",
    "# #  GeoPandas GeoDataFrame\n",
    "# knoxville_tennessee = ox.geocode_to_gdf('Knoxville, Tennessee, United States')\n",
    "# # GeoPandas GeoDataFrame to ee.FeatureCollection\n",
    "# knoxville_tennessee_ee = geemap.geopandas_to_ee(knoxville_tennessee, geodesic=True)\n",
    "\n",
    "knoxville_tennessee_ee = geemap.osm_to_ee('Knoxville, Tennessee')\n",
    "\n",
    "Map.addLayer(knoxville_tennessee_ee, {}, 'Knoxville, Tennessee')\n",
    "Map.centerObject(knoxville_tennessee_ee, 11)\n",
    "Map"
   ]
  },
  {
   "cell_type": "code",
   "execution_count": null,
   "metadata": {},
   "outputs": [],
   "source": []
  }
 ],
 "metadata": {
  "hide_input": false,
  "kernelspec": {
   "display_name": "Python 3",
   "language": "python",
   "name": "python3"
  },
  "language_info": {
   "codemirror_mode": {
    "name": "ipython",
    "version": 3
   },
   "file_extension": ".py",
   "mimetype": "text/x-python",
   "name": "python",
   "nbconvert_exporter": "python",
   "pygments_lexer": "ipython3",
   "version": "3.8.5"
  },
  "toc": {
   "base_numbering": 1,
   "nav_menu": {},
   "number_sections": true,
   "sideBar": true,
   "skip_h1_title": false,
   "title_cell": "Table of Contents",
   "title_sidebar": "Contents",
   "toc_cell": false,
   "toc_position": {},
   "toc_section_display": true,
   "toc_window_display": false
  },
  "varInspector": {
   "cols": {
    "lenName": 16,
    "lenType": 16,
    "lenVar": 40
   },
   "kernels_config": {
    "python": {
     "delete_cmd_postfix": "",
     "delete_cmd_prefix": "del ",
     "library": "var_list.py",
     "varRefreshCmd": "print(var_dic_list())"
    },
    "r": {
     "delete_cmd_postfix": ") ",
     "delete_cmd_prefix": "rm(",
     "library": "var_list.r",
     "varRefreshCmd": "cat(var_dic_list()) "
    }
   },
   "types_to_exclude": [
    "module",
    "function",
    "builtin_function_or_method",
    "instance",
    "_Feature"
   ],
   "window_display": false
  }
 },
 "nbformat": 4,
 "nbformat_minor": 4
}
