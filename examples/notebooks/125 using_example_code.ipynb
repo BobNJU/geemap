{
 "cells": [
  {
   "cell_type": "markdown",
   "metadata": {},
   "source": [
    "<a href=\"https://githubtocolab.com/giswqs/geemap/blob/master/examples/notebooks/123_sentinel1_timelapse.ipynb\" target=\"_parent\"><img src=\"https://colab.research.google.com/assets/colab-badge.svg\" alt=\"Open in Colab\"/></a>\n",
    "\n",
    "**Using Earth engine examples**\n",
    "\n",
    "\n",
    "- ee datasets seem to come from https://code.earthengine.google.com/scripts/load\n",
    "- When logged into gee, this link returns a f.json. It contains all code examples from the docs, including the datasets.\n",
    "- community datasets can be accessed using git from https://earthengine.googlesource.com\n",
    "- which in many cases can be translated into python code\n",
    "- this should make it feasible to use the code examples directly into geemap\n",
    "\n",
    "Uncomment the following line to install [geemap](https://geemap.org) if needed."
   ]
  },
  {
   "cell_type": "code",
   "execution_count": 1,
   "metadata": {},
   "outputs": [],
   "source": [
    "# !pip install -U geemap"
   ]
  },
  {
   "cell_type": "code",
   "execution_count": 2,
   "metadata": {},
   "outputs": [],
   "source": [
    "import ee\n",
    "import geemap\n",
    "import json\n",
    "# import requests"
   ]
  },
  {
   "cell_type": "markdown",
   "metadata": {},
   "source": [
    "## Manually download f.json \n",
    "https://code.earthengine.google.com/scripts/load"
   ]
  },
  {
   "cell_type": "markdown",
   "metadata": {},
   "source": [
    "## Explore json contents\n",
    "\n",
    "Change file download location. Also added f.json to repo."
   ]
  },
  {
   "cell_type": "code",
   "execution_count": 3,
   "metadata": {},
   "outputs": [
    {
     "data": {
      "text/plain": [
       "dict_keys(['examples'])"
      ]
     },
     "execution_count": 3,
     "metadata": {},
     "output_type": "execute_result"
    }
   ],
   "source": [
    "with open(r'c:\\users\\karel\\downloads\\f.json', encoding=\"utf-8\") as f:\n",
    "    functions = json.load(f)\n",
    "\n",
    "functions.keys()"
   ]
  },
  {
   "cell_type": "code",
   "execution_count": 4,
   "metadata": {},
   "outputs": [
    {
     "data": {
      "text/plain": [
       "[('Arrays', 4),\n",
       " ('Charts', 10),\n",
       " ('Cloud Masking', 6),\n",
       " ('Code Editor', 2),\n",
       " ('Datasets', 845),\n",
       " ('Demos', 7),\n",
       " ('Feature Collection', 7),\n",
       " ('Image', 17),\n",
       " ('Image Collection', 7),\n",
       " ('Primitive', 1),\n",
       " ('User Interface', 15)]"
      ]
     },
     "execution_count": 4,
     "metadata": {},
     "output_type": "execute_result"
    }
   ],
   "source": [
    "[(x['name'], len(x['contents'])) for x in functions['examples']]"
   ]
  },
  {
   "cell_type": "markdown",
   "metadata": {},
   "source": [
    "## Details"
   ]
  },
  {
   "cell_type": "code",
   "execution_count": 5,
   "metadata": {},
   "outputs": [
    {
     "data": {
      "text/plain": [
       "('AAFC_ACI',\n",
       " \"var dataset = ee.ImageCollection('AAFC/ACI');\\nvar crop2016 = dataset\\n    .filter(ee.Filter.date('2016-01-01', '2016-12-31'))\\n    .first();\\nMap.setCenter(-103.8881, 53.0371, 10);\\nMap.addLayer(crop2016);\\n\")"
      ]
     },
     "execution_count": 5,
     "metadata": {},
     "output_type": "execute_result"
    }
   ],
   "source": [
    "details = [(dataset['name'], dataset['code']) \n",
    "                   for x in functions['examples'] \n",
    "                   for dataset in x['contents'] \n",
    "           if x['name'] == 'Datasets']\n",
    "details[0]"
   ]
  },
  {
   "cell_type": "markdown",
   "metadata": {},
   "source": [
    "## Convert js to py"
   ]
  },
  {
   "cell_type": "code",
   "execution_count": 6,
   "metadata": {},
   "outputs": [
    {
     "name": "stdout",
     "output_type": "stream",
     "text": [
      "'charmap' codec can't encode character '\\u2192' in position 2567: character maps to <undefined>\n",
      "'charmap' codec can't encode character '\\u2192' in position 2567: character maps to <undefined>\n"
     ]
    }
   ],
   "source": [
    "def get_py(js):\n",
    "    try:\n",
    "        return geemap.js_snippet_to_py(js, \n",
    "                                       add_new_cell=False, \n",
    "                                       import_ee=False, \n",
    "                                       import_geemap=False, \n",
    "                                       show_map=False)\n",
    "    except:\n",
    "        return None\n",
    "\n",
    "results_convert = [get_py(js) for _,js in details]\n",
    "\n"
   ]
  },
  {
   "cell_type": "code",
   "execution_count": 7,
   "metadata": {},
   "outputs": [
    {
     "data": {
      "text/plain": [
       "(845, 845)"
      ]
     },
     "execution_count": 7,
     "metadata": {},
     "output_type": "execute_result"
    }
   ],
   "source": [
    "len(details), len(results_convert)"
   ]
  },
  {
   "cell_type": "markdown",
   "metadata": {},
   "source": [
    "Except for 2 cases, converts ran without error."
   ]
  },
  {
   "cell_type": "code",
   "execution_count": 8,
   "metadata": {},
   "outputs": [
    {
     "data": {
      "text/plain": [
       "843"
      ]
     },
     "execution_count": 8,
     "metadata": {},
     "output_type": "execute_result"
    }
   ],
   "source": [
    "len([x for x in results_convert if x])"
   ]
  },
  {
   "cell_type": "markdown",
   "metadata": {},
   "source": [
    "## Verify availability"
   ]
  },
  {
   "cell_type": "code",
   "execution_count": 9,
   "metadata": {},
   "outputs": [
    {
     "data": {
      "text/plain": [
       "928"
      ]
     },
     "execution_count": 9,
     "metadata": {},
     "output_type": "execute_result"
    }
   ],
   "source": [
    "from geemap import datasets\n",
    "\n",
    "len(datasets.get_ee_stac_list())"
   ]
  },
  {
   "cell_type": "code",
   "execution_count": 10,
   "metadata": {},
   "outputs": [],
   "source": [
    "known_datasets = set(name.replace('/','_') for name in datasets.get_ee_stac_list())\n",
    "known_code = set(name for name,_ in details)"
   ]
  },
  {
   "cell_type": "markdown",
   "metadata": {},
   "source": [
    "## Only some have exact matches"
   ]
  },
  {
   "cell_type": "code",
   "execution_count": 11,
   "metadata": {},
   "outputs": [
    {
     "data": {
      "text/plain": [
       "772"
      ]
     },
     "execution_count": 11,
     "metadata": {},
     "output_type": "execute_result"
    }
   ],
   "source": [
    "len(known_code & known_datasets)"
   ]
  },
  {
   "cell_type": "markdown",
   "metadata": {},
   "source": [
    "Sometimes there is a 2 example available for a dataset, mostly FeatureViews."
   ]
  },
  {
   "cell_type": "code",
   "execution_count": 12,
   "metadata": {},
   "outputs": [],
   "source": [
    "excess = (known_code - known_datasets)"
   ]
  },
  {
   "cell_type": "code",
   "execution_count": 13,
   "metadata": {},
   "outputs": [
    {
     "data": {
      "text/plain": [
       "73"
      ]
     },
     "execution_count": 13,
     "metadata": {},
     "output_type": "execute_result"
    }
   ],
   "source": [
    "len(excess)"
   ]
  },
  {
   "cell_type": "code",
   "execution_count": 14,
   "metadata": {},
   "outputs": [
    {
     "data": {
      "text/plain": [
       "13"
      ]
     },
     "execution_count": 14,
     "metadata": {},
     "output_type": "execute_result"
    }
   ],
   "source": [
    "excess_no_featureview = set(x.replace('_FeatureView','') for x in known_code)\n",
    "len(excess_no_featureview - known_datasets)"
   ]
  },
  {
   "cell_type": "markdown",
   "metadata": {},
   "source": [
    "Leftovers"
   ]
  },
  {
   "cell_type": "code",
   "execution_count": 15,
   "metadata": {
    "scrolled": false
   },
   "outputs": [
    {
     "data": {
      "text/plain": [
       "{'MODIS_006_MOD17A3GFH',\n",
       " 'Tsinghua_FROM-GLC_GAIA_V10',\n",
       " 'WWF_HydroATLAS_v1_Basins_level1',\n",
       " 'WWF_HydroATLAS_v1_Basins_level10',\n",
       " 'WWF_HydroATLAS_v1_Basins_level11',\n",
       " 'WWF_HydroATLAS_v1_Basins_level2',\n",
       " 'WWF_HydroATLAS_v1_Basins_level3',\n",
       " 'WWF_HydroATLAS_v1_Basins_level4',\n",
       " 'WWF_HydroATLAS_v1_Basins_level5',\n",
       " 'WWF_HydroATLAS_v1_Basins_level6',\n",
       " 'WWF_HydroATLAS_v1_Basins_level7',\n",
       " 'WWF_HydroATLAS_v1_Basins_level8',\n",
       " 'WWF_HydroATLAS_v1_Basins_level9'}"
      ]
     },
     "execution_count": 15,
     "metadata": {},
     "output_type": "execute_result"
    }
   ],
   "source": [
    "(excess_no_featureview - known_datasets)"
   ]
  },
  {
   "cell_type": "markdown",
   "metadata": {},
   "source": [
    "## Datasets without examples"
   ]
  },
  {
   "cell_type": "code",
   "execution_count": 16,
   "metadata": {},
   "outputs": [
    {
     "data": {
      "text/plain": [
       "156"
      ]
     },
     "execution_count": 16,
     "metadata": {},
     "output_type": "execute_result"
    }
   ],
   "source": [
    "missing_code = known_datasets - known_code\n",
    "len(missing_code)"
   ]
  },
  {
   "cell_type": "markdown",
   "metadata": {},
   "source": [
    "These are also missing in gee itself (logically as these load from f.json). \n",
    "\n",
    "- https://code.earthengine.google.com/?scriptPath=Examples%3ADatasets%2FLANDSAT_LC8\n",
    "\n",
    "Deprecated stuff afaik, s.a. Landsat LT1"
   ]
  },
  {
   "cell_type": "code",
   "execution_count": 17,
   "metadata": {},
   "outputs": [
    {
     "data": {
      "text/plain": [
       "{'LANDSAT_LC8',\n",
       " 'LANDSAT_LC8_L1T',\n",
       " 'LANDSAT_LC8_L1T_32DAY_BAI',\n",
       " 'LANDSAT_LC8_L1T_32DAY_EVI',\n",
       " 'LANDSAT_LC8_L1T_32DAY_NBRT',\n",
       " 'LANDSAT_LC8_L1T_32DAY_NDSI',\n",
       " 'LANDSAT_LC8_L1T_32DAY_NDVI',\n",
       " 'LANDSAT_LC8_L1T_32DAY_NDWI',\n",
       " 'LANDSAT_LC8_L1T_32DAY_RAW',\n",
       " 'LANDSAT_LC8_L1T_32DAY_TOA',\n",
       " 'LANDSAT_LC8_L1T_8DAY_BAI',\n",
       " 'LANDSAT_LC8_L1T_8DAY_EVI',\n",
       " 'LANDSAT_LC8_L1T_8DAY_NBRT',\n",
       " 'LANDSAT_LC8_L1T_8DAY_NDSI',\n",
       " 'LANDSAT_LC8_L1T_8DAY_NDVI',\n",
       " 'LANDSAT_LC8_L1T_8DAY_NDWI',\n",
       " 'LANDSAT_LC8_L1T_8DAY_RAW',\n",
       " 'LANDSAT_LC8_L1T_8DAY_TOA',\n",
       " 'LANDSAT_LC8_L1T_ANNUAL_BAI',\n",
       " 'LANDSAT_LC8_L1T_ANNUAL_EVI',\n",
       " 'LANDSAT_LC8_L1T_ANNUAL_NBRT',\n",
       " 'LANDSAT_LC8_L1T_ANNUAL_NDSI',\n",
       " 'LANDSAT_LC8_L1T_ANNUAL_NDVI',\n",
       " 'LANDSAT_LC8_L1T_ANNUAL_NDWI',\n",
       " 'LANDSAT_LC8_L1T_ANNUAL_RAW',\n",
       " 'LANDSAT_LC8_L1T_ANNUAL_TOA',\n",
       " 'LANDSAT_LC8_L1T_TOA',\n",
       " 'LANDSAT_LE7',\n",
       " 'LANDSAT_LE7_L1T',\n",
       " 'LANDSAT_LE7_L1T_32DAY_BAI',\n",
       " 'LANDSAT_LE7_L1T_32DAY_EVI',\n",
       " 'LANDSAT_LE7_L1T_32DAY_NBRT',\n",
       " 'LANDSAT_LE7_L1T_32DAY_NDSI',\n",
       " 'LANDSAT_LE7_L1T_32DAY_NDVI',\n",
       " 'LANDSAT_LE7_L1T_32DAY_NDWI',\n",
       " 'LANDSAT_LE7_L1T_32DAY_RAW',\n",
       " 'LANDSAT_LE7_L1T_32DAY_TOA',\n",
       " 'LANDSAT_LE7_L1T_8DAY_BAI',\n",
       " 'LANDSAT_LE7_L1T_8DAY_EVI',\n",
       " 'LANDSAT_LE7_L1T_8DAY_NBRT',\n",
       " 'LANDSAT_LE7_L1T_8DAY_NDSI',\n",
       " 'LANDSAT_LE7_L1T_8DAY_NDVI',\n",
       " 'LANDSAT_LE7_L1T_8DAY_NDWI',\n",
       " 'LANDSAT_LE7_L1T_8DAY_RAW',\n",
       " 'LANDSAT_LE7_L1T_8DAY_TOA',\n",
       " 'LANDSAT_LE7_L1T_ANNUAL_BAI',\n",
       " 'LANDSAT_LE7_L1T_ANNUAL_EVI',\n",
       " 'LANDSAT_LE7_L1T_ANNUAL_NBRT',\n",
       " 'LANDSAT_LE7_L1T_ANNUAL_NDSI',\n",
       " 'LANDSAT_LE7_L1T_ANNUAL_NDVI',\n",
       " 'LANDSAT_LE7_L1T_ANNUAL_NDWI',\n",
       " 'LANDSAT_LE7_L1T_ANNUAL_RAW',\n",
       " 'LANDSAT_LE7_L1T_ANNUAL_TOA',\n",
       " 'LANDSAT_LE7_L1T_TOA',\n",
       " 'LANDSAT_LM1',\n",
       " 'LANDSAT_LM1_L1T',\n",
       " 'LANDSAT_LM2',\n",
       " 'LANDSAT_LM2_L1T',\n",
       " 'LANDSAT_LM3',\n",
       " 'LANDSAT_LM3_L1T',\n",
       " 'LANDSAT_LM4',\n",
       " 'LANDSAT_LM4_L1T',\n",
       " 'LANDSAT_LM5',\n",
       " 'LANDSAT_LM5_L1T',\n",
       " 'LANDSAT_LT4',\n",
       " 'LANDSAT_LT4_L1T',\n",
       " 'LANDSAT_LT4_L1T_32DAY_BAI',\n",
       " 'LANDSAT_LT4_L1T_32DAY_EVI',\n",
       " 'LANDSAT_LT4_L1T_32DAY_NBRT',\n",
       " 'LANDSAT_LT4_L1T_32DAY_NDSI',\n",
       " 'LANDSAT_LT4_L1T_32DAY_NDVI',\n",
       " 'LANDSAT_LT4_L1T_32DAY_NDWI',\n",
       " 'LANDSAT_LT4_L1T_32DAY_RAW',\n",
       " 'LANDSAT_LT4_L1T_32DAY_TOA',\n",
       " 'LANDSAT_LT4_L1T_8DAY_BAI',\n",
       " 'LANDSAT_LT4_L1T_8DAY_EVI',\n",
       " 'LANDSAT_LT4_L1T_8DAY_NBRT',\n",
       " 'LANDSAT_LT4_L1T_8DAY_NDSI',\n",
       " 'LANDSAT_LT4_L1T_8DAY_NDVI',\n",
       " 'LANDSAT_LT4_L1T_8DAY_NDWI',\n",
       " 'LANDSAT_LT4_L1T_8DAY_RAW',\n",
       " 'LANDSAT_LT4_L1T_8DAY_TOA',\n",
       " 'LANDSAT_LT4_L1T_ANNUAL_BAI',\n",
       " 'LANDSAT_LT4_L1T_ANNUAL_EVI',\n",
       " 'LANDSAT_LT4_L1T_ANNUAL_NBRT',\n",
       " 'LANDSAT_LT4_L1T_ANNUAL_NDSI',\n",
       " 'LANDSAT_LT4_L1T_ANNUAL_NDVI',\n",
       " 'LANDSAT_LT4_L1T_ANNUAL_NDWI',\n",
       " 'LANDSAT_LT4_L1T_ANNUAL_RAW',\n",
       " 'LANDSAT_LT4_L1T_ANNUAL_TOA',\n",
       " 'LANDSAT_LT4_L1T_TOA',\n",
       " 'LANDSAT_LT5',\n",
       " 'LANDSAT_LT5_L1T',\n",
       " 'LANDSAT_LT5_L1T_32DAY_BAI',\n",
       " 'LANDSAT_LT5_L1T_32DAY_EVI',\n",
       " 'LANDSAT_LT5_L1T_32DAY_NBRT',\n",
       " 'LANDSAT_LT5_L1T_32DAY_NDSI',\n",
       " 'LANDSAT_LT5_L1T_32DAY_NDVI',\n",
       " 'LANDSAT_LT5_L1T_32DAY_NDWI',\n",
       " 'LANDSAT_LT5_L1T_32DAY_RAW',\n",
       " 'LANDSAT_LT5_L1T_32DAY_TOA',\n",
       " 'LANDSAT_LT5_L1T_8DAY_BAI',\n",
       " 'LANDSAT_LT5_L1T_8DAY_EVI',\n",
       " 'LANDSAT_LT5_L1T_8DAY_NBRT',\n",
       " 'LANDSAT_LT5_L1T_8DAY_NDSI',\n",
       " 'LANDSAT_LT5_L1T_8DAY_NDVI',\n",
       " 'LANDSAT_LT5_L1T_8DAY_NDWI',\n",
       " 'LANDSAT_LT5_L1T_8DAY_RAW',\n",
       " 'LANDSAT_LT5_L1T_8DAY_TOA',\n",
       " 'LANDSAT_LT5_L1T_ANNUAL_BAI',\n",
       " 'LANDSAT_LT5_L1T_ANNUAL_EVI',\n",
       " 'LANDSAT_LT5_L1T_ANNUAL_NBRT',\n",
       " 'LANDSAT_LT5_L1T_ANNUAL_NDSI',\n",
       " 'LANDSAT_LT5_L1T_ANNUAL_NDVI',\n",
       " 'LANDSAT_LT5_L1T_ANNUAL_NDWI',\n",
       " 'LANDSAT_LT5_L1T_ANNUAL_RAW',\n",
       " 'LANDSAT_LT5_L1T_ANNUAL_TOA',\n",
       " 'LANDSAT_LT5_L1T_TOA',\n",
       " 'MODIS_061_MOD14A1',\n",
       " 'MODIS_061_MYD14A1',\n",
       " 'MODIS_MCD43A1',\n",
       " 'MODIS_MCD43A2',\n",
       " 'MODIS_MCD43A4',\n",
       " 'MODIS_MCD43A4_BAI',\n",
       " 'MODIS_MCD43A4_EVI',\n",
       " 'MODIS_MCD43A4_NDSI',\n",
       " 'MODIS_MCD43A4_NDVI',\n",
       " 'MODIS_MCD43A4_NDWI',\n",
       " 'MODIS_MOD09A1',\n",
       " 'MODIS_MOD09GA',\n",
       " 'MODIS_MOD09GA_BAI',\n",
       " 'MODIS_MOD09GA_EVI',\n",
       " 'MODIS_MOD09GA_NDSI',\n",
       " 'MODIS_MOD09GA_NDVI',\n",
       " 'MODIS_MOD09GA_NDWI',\n",
       " 'MODIS_MOD09GQ',\n",
       " 'MODIS_MOD09Q1',\n",
       " 'MODIS_MOD11A1',\n",
       " 'MODIS_MOD11A2',\n",
       " 'MODIS_MOD13Q1',\n",
       " 'MODIS_MYD09A1',\n",
       " 'MODIS_MYD09GA',\n",
       " 'MODIS_MYD09GA_BAI',\n",
       " 'MODIS_MYD09GA_EVI',\n",
       " 'MODIS_MYD09GA_NDSI',\n",
       " 'MODIS_MYD09GA_NDVI',\n",
       " 'MODIS_MYD09GA_NDWI',\n",
       " 'MODIS_MYD09GQ',\n",
       " 'MODIS_MYD09Q1',\n",
       " 'MODIS_MYD10A1',\n",
       " 'MODIS_MYD11A1',\n",
       " 'MODIS_MYD11A2',\n",
       " 'MODIS_MYD13Q1',\n",
       " 'NOAA_GOES_18_MCMIPC',\n",
       " 'NOAA_GOES_18_MCMIPF',\n",
       " 'NOAA_GOES_18_MCMIPM'}"
      ]
     },
     "execution_count": 17,
     "metadata": {},
     "output_type": "execute_result"
    }
   ],
   "source": [
    "missing_code"
   ]
  },
  {
   "cell_type": "code",
   "execution_count": 18,
   "metadata": {},
   "outputs": [
    {
     "data": {
      "text/plain": [
       "['USGS Landsat 8 Raw Scenes (Orthorectified) [deprecated]',\n",
       " 'Landsat 8 32-Day BAI Composite [deprecated]',\n",
       " 'Landsat 8 32-Day EVI Composite [deprecated]',\n",
       " 'Landsat 8 32-Day NBRT Composite [deprecated]',\n",
       " 'Landsat 8 32-Day NDSI Composite [deprecated]']"
      ]
     },
     "execution_count": 18,
     "metadata": {},
     "output_type": "execute_result"
    }
   ],
   "source": [
    "from geemap import common \n",
    "\n",
    "[x['title'] for x in common.search_ee_data('LANDSAT L1T')][:5]"
   ]
  },
  {
   "cell_type": "code",
   "execution_count": 19,
   "metadata": {
    "scrolled": true
   },
   "outputs": [
    {
     "data": {
      "text/plain": [
       "[('MODIS_006_MYD08_M3',\n",
       "  'MYD08_M3.006 Aqua Aerosol Cloud Water Vapor Ozone Monthly Global Product 1Deg CMG [deprecated]'),\n",
       " ('MODIS_006_MYD09A1',\n",
       "  'MYD09A1.006 Aqua Surface Reflectance 8-Day Global 500m [deprecated]'),\n",
       " ('MODIS_006_MYD09GA',\n",
       "  'MYD09GA.006 Aqua Surface Reflectance Daily Global 1km and 500m [deprecated]'),\n",
       " ('MODIS_006_MYD09GQ',\n",
       "  'MYD09GQ.006 Aqua Surface Reflectance Daily Global 250m [deprecated]'),\n",
       " ('MODIS_006_MYD09Q1',\n",
       "  'MYD09Q1.006 Aqua Surface Reflectance 8-Day Global 250m [deprecated]')]"
      ]
     },
     "execution_count": 19,
     "metadata": {},
     "output_type": "execute_result"
    }
   ],
   "source": [
    "[(x['uid'],x['title']) for x in common.search_ee_data('MODIS MYD')][:5]"
   ]
  },
  {
   "cell_type": "code",
   "execution_count": 20,
   "metadata": {},
   "outputs": [
    {
     "data": {
      "application/vnd.jupyter.widget-view+json": {
       "model_id": "c01b2a05503c4f5b89d9c1d32e153cb5",
       "version_major": 2,
       "version_minor": 0
      },
      "text/plain": [
       "Map(center=[20, 0], controls=(WidgetControl(options=['position', 'transparent_bg'], widget=HBox(children=(Togg…"
      ]
     },
     "metadata": {},
     "output_type": "display_data"
    }
   ],
   "source": [
    "from geemap import Map\n",
    "\n",
    "Map()"
   ]
  }
 ],
 "metadata": {
  "anaconda-cloud": {},
  "kernelspec": {
   "display_name": "Python 3",
   "language": "python",
   "name": "python3"
  },
  "language_info": {
   "codemirror_mode": {
    "name": "ipython",
    "version": 3
   },
   "file_extension": ".py",
   "mimetype": "text/x-python",
   "name": "python",
   "nbconvert_exporter": "python",
   "pygments_lexer": "ipython3",
   "version": "3.7.6"
  }
 },
 "nbformat": 4,
 "nbformat_minor": 4
}
