{
 "cells": [
  {
   "cell_type": "markdown",
   "id": "c56f7f9d-bfea-44cb-b86e-729f0ef29391",
   "metadata": {},
   "source": [
    "## How to export thousands of image chips from Earth Engine in a few minutes\n",
    "\n",
    "This source code of this notebook was adopted from the Medium post - [Fast(er) Downloads](https://gorelick.medium.com/fast-er-downloads-a2abd512aa26) by Noel Gorelick. Credits to Noel.  \n",
    "\n",
    "Due to the [limitation](https://docs.python.org/3/library/multiprocessing.html) of the [multiprocessing](https://docs.python.org/3/library/multiprocessing.html) package, the functionality of of this notebook can only be run in the top-level. Therefore, it could not be implemented as a function under geemap. \n",
    "\n",
    "### Install packages\n",
    "\n",
    "Uncomment the following line to install the required packages."
   ]
  },
  {
   "cell_type": "code",
   "execution_count": 27,
   "id": "176119f8-3961-4763-95f8-37eb266c258e",
   "metadata": {},
   "outputs": [],
   "source": [
    "# !pip install geemap retry"
   ]
  },
  {
   "cell_type": "markdown",
   "id": "ddb166d7-2b43-4a44-aa55-205a408973ee",
   "metadata": {},
   "source": [
    "### Import libraries"
   ]
  },
  {
   "cell_type": "code",
   "execution_count": 28,
   "id": "b302780a-e92b-4be2-9cd4-68f1fdf24a20",
   "metadata": {},
   "outputs": [],
   "source": [
    "import ee\n",
    "import geemap\n",
    "import logging\n",
    "import multiprocessing\n",
    "import os\n",
    "import requests\n",
    "import shutil\n",
    "from retry import retry"
   ]
  },
  {
   "cell_type": "markdown",
   "id": "b22ac005-a8b2-4fac-9db7-d628ab250198",
   "metadata": {},
   "source": [
    "### Initialize GEE to use the high-volume endpoint\n",
    "\n",
    "- [high-volume endpoint](https://developers.google.com/earth-engine/cloud/highvolume)"
   ]
  },
  {
   "cell_type": "code",
   "execution_count": 29,
   "id": "bfc9265f-79ef-4c01-9730-4abf10a29803",
   "metadata": {},
   "outputs": [],
   "source": [
    "ee.Initialize(opt_url='https://earthengine-highvolume.googleapis.com')"
   ]
  },
  {
   "cell_type": "markdown",
   "id": "eb9c9343-e17f-4bb2-9979-33c3e1cbad14",
   "metadata": {},
   "source": [
    "### Create an interactive map"
   ]
  },
  {
   "cell_type": "code",
   "execution_count": 30,
   "id": "fc05dbb4-5ef4-46f9-8a59-8506116129ad",
   "metadata": {},
   "outputs": [
    {
     "data": {
      "application/vnd.jupyter.widget-view+json": {
       "model_id": "1612b835da774588bc75ba2978889aca",
       "version_major": 2,
       "version_minor": 0
      },
      "text/plain": [
       "Map(center=[20, 0], controls=(WidgetControl(options=['position', 'transparent_bg'], widget=HBox(children=(Togg…"
      ]
     },
     "metadata": {},
     "output_type": "display_data"
    }
   ],
   "source": [
    "Map = geemap.Map()\n",
    "Map"
   ]
  },
  {
   "cell_type": "markdown",
   "id": "a0467ec4-0df6-4a31-aeb3-64ae8cf84f2c",
   "metadata": {},
   "source": [
    "### Define the Region of Interest (ROI)\n",
    "\n",
    "You can use the drawing tools on the map to draw an ROI, then you can use `Map.user_roi` to retrieve the geometry. Alternatively, you can define the ROI as an ee.Geometry as shown below."
   ]
  },
  {
   "cell_type": "code",
   "execution_count": 31,
   "id": "6958e3bf-deb2-4ea4-bd9b-16795fda58d6",
   "metadata": {},
   "outputs": [],
   "source": [
    "# region = Map.user_roi\n",
    "region = ee.Geometry.Polygon([[[-122.513695, 37.707998],\n",
    "   [-122.513695, 37.804359],\n",
    "   [-122.371902, 37.804359],\n",
    "   [-122.371902, 37.707998],\n",
    "   [-122.513695, 37.707998]]], None, False)"
   ]
  },
  {
   "cell_type": "markdown",
   "id": "a84d1a59-8cbf-4630-9c84-029092289731",
   "metadata": {},
   "source": [
    "### Define the image source\n",
    "\n",
    "Using the 1-m [NAIP imagery](https://developers.google.com/earth-engine/datasets/catalog/USDA_NAIP_DOQQ)."
   ]
  },
  {
   "cell_type": "code",
   "execution_count": 32,
   "id": "79a3801a-a3ba-462f-8d2f-57cd9a88570a",
   "metadata": {},
   "outputs": [],
   "source": [
    "image = ee.ImageCollection('USDA/NAIP/DOQQ') \\\n",
    "            .filterBounds(region) \\\n",
    "            .filterDate('2020', '2021') \\\n",
    "            .mosaic() \\\n",
    "            .clip(region) \\\n",
    "            .select('N', 'R', 'G') "
   ]
  },
  {
   "cell_type": "markdown",
   "id": "4d27b1bc-080a-4361-80e4-5562aaab2cae",
   "metadata": {},
   "source": [
    "Using the 10-m [Sentinel-2 imagery](https://developers.google.com/earth-engine/datasets/catalog/COPERNICUS_S2_SR#bands)."
   ]
  },
  {
   "cell_type": "code",
   "execution_count": 33,
   "id": "ae4f17f2-3ea9-4882-a1b5-58dcbd80187b",
   "metadata": {},
   "outputs": [],
   "source": [
    "# image = ee.ImageCollection('COPERNICUS/S2_SR') \\\n",
    "#             .filterBounds(region) \\\n",
    "#             .filterDate('2021', '2022') \\\n",
    "#             .select('B8', 'B4', 'B3') \\\n",
    "#             .median() \\\n",
    "#             .visualize(min=0, max=4000) \\\n",
    "#             .clip(region)         "
   ]
  },
  {
   "cell_type": "markdown",
   "id": "11b314a3-ad2e-4cc0-8981-5bf248cd2dad",
   "metadata": {},
   "source": [
    "### Set parameters"
   ]
  },
  {
   "cell_type": "code",
   "execution_count": 34,
   "id": "32ff5325-b036-43cb-8c84-fbc3f6633cf2",
   "metadata": {},
   "outputs": [],
   "source": [
    "params = {\n",
    "    'count': 100,   # How many image chips to export\n",
    "    'buffer':127,   # The buffer distance (m) around each point\n",
    "    'scale': 100,   # The scale to do stratified sampling\n",
    "    'seed': 1,      # A randomization seed to use for subsampling.\n",
    "    'dimensions': '256x256',  # The dimension of each image chip\n",
    "    'format': \"png\",   # The output image format\n",
    "    'prefix': 'tile_', # The filename prefix\n",
    "    'processes': 25,   # How many processes to used for parallel processing\n",
    "    'out_dir': '.',    # The output directory. Default to the current working directly\n",
    "}"
   ]
  },
  {
   "cell_type": "markdown",
   "id": "43dd7c1b-261f-4d04-b6c7-3e2ba25d362d",
   "metadata": {},
   "source": [
    "### Add layers to map"
   ]
  },
  {
   "cell_type": "code",
   "execution_count": 35,
   "id": "fdc42bc1-d2e1-427e-823f-ca96fbe991d9",
   "metadata": {},
   "outputs": [
    {
     "data": {
      "application/vnd.jupyter.widget-view+json": {
       "model_id": "1612b835da774588bc75ba2978889aca",
       "version_major": 2,
       "version_minor": 0
      },
      "text/plain": [
       "Map(center=[37.7555, -122.4415], controls=(WidgetControl(options=['position', 'transparent_bg'], widget=HBox(c…"
      ]
     },
     "metadata": {},
     "output_type": "display_data"
    }
   ],
   "source": [
    "Map.addLayer(image, {}, \"Image\")\n",
    "Map.addLayer(region, {}, \"ROI\", False)\n",
    "Map.setCenter(-122.4415, 37.7555, 12)\n",
    "Map"
   ]
  },
  {
   "cell_type": "markdown",
   "id": "63448403-3801-4062-9b6c-89bcd89e45b4",
   "metadata": {
    "tags": []
   },
   "source": [
    "### Generate a list of work items\n",
    "\n",
    "In the example, we are going to generate 1000 points using the stratified random sampling, which requires a `classBand`. It is the name of the band containing the classes to use for stratification. If unspecified, the first band of the input image is used. Therefore, we have toADD a new band with a constant value (e.g., 1) to the image. The result of the `getRequests()`function returns a list of dictionaries containing points."
   ]
  },
  {
   "cell_type": "code",
   "execution_count": 36,
   "id": "8b1a7ded-1ee2-45c0-9a2d-2bff70d41a8d",
   "metadata": {},
   "outputs": [],
   "source": [
    "def getRequests():\n",
    "    img = ee.Image(1).rename(\"Class\").addBands(image)\n",
    "    points = img.stratifiedSample(numPoints=params['count'], region=region, scale=params['scale'], seed=params['seed'], geometries=True)\n",
    "    Map.data = points\n",
    "    return points.aggregate_array('.geo').getInfo()"
   ]
  },
  {
   "cell_type": "markdown",
   "id": "43cdc173-4cd5-477e-9077-5bd1998edf4b",
   "metadata": {},
   "source": [
    "### Create a function for downloading image"
   ]
  },
  {
   "cell_type": "markdown",
   "id": "c7f616ee-611d-4354-809d-7ca26518fbae",
   "metadata": {},
   "source": [
    "The `getResult()` function then takes one of those points and generates an image centered on that location, which is then downloaded as a PNG and saved to a file. This function uses `image.getThumbURL()` to select the pixels, however you could also use `image.getDownloadURL()` if you wanted the output to be in GeoTIFF or NumPy format ([source](https://gorelick.medium.com/fast-er-downloads-a2abd512aa26))."
   ]
  },
  {
   "cell_type": "code",
   "execution_count": 37,
   "id": "ee29e8fa-2cfd-444a-9654-eca6fb4ba9b9",
   "metadata": {},
   "outputs": [],
   "source": [
    "@retry(tries=10, delay=1, backoff=2)\n",
    "def getResult(index, point):\n",
    "    point = ee.Geometry.Point(point['coordinates'])\n",
    "    region = point.buffer(params['buffer']).bounds()  \n",
    "\n",
    "    url = image.getThumbURL({\n",
    "        'region': region,\n",
    "        'dimensions': params['dimensions'],\n",
    "        'format': params['format']})\n",
    "\n",
    "    r = requests.get(url, stream=True)\n",
    "    if r.status_code != 200:\n",
    "        r.raise_for_status()\n",
    "\n",
    "    out_dir = os.path.abspath(params['out_dir'])\n",
    "    basename = str(index).zfill(len(str(params['count'])))\n",
    "    filename = f\"{out_dir}/{params['prefix']}{basename}.{params['format']}\"\n",
    "    with open(filename, 'wb') as out_file:\n",
    "        shutil.copyfileobj(r.raw, out_file)\n",
    "    print(\"Done: \", basename)   "
   ]
  },
  {
   "cell_type": "markdown",
   "id": "fe4089eb-6d26-45c3-b45e-ad026c39b488",
   "metadata": {},
   "source": [
    "### Download images"
   ]
  },
  {
   "cell_type": "code",
   "execution_count": 38,
   "id": "a0f58c1b-b7f3-4c51-8230-6132b25805f8",
   "metadata": {},
   "outputs": [
    {
     "name": "stderr",
     "output_type": "stream",
     "text": [
      "WARNING:googleapiclient.http:Sleeping 0.18 seconds before retry 1 of 5 for request: POST https://earthengine-highvolume.googleapis.com/v1alpha/projects/earthengine-legacy/thumbnails?fields=name&alt=json, after (SSLError(1, '[SSL: WRONG_VERSION_NUMBER] wrong version number (_ssl.c:2633)'),)\n",
      "WARNING:googleapiclient.http:Sleeping 0.43 seconds before retry 1 of 5 for request: POST https://earthengine-highvolume.googleapis.com/v1alpha/projects/earthengine-legacy/thumbnails?fields=name&alt=json, after (SSLError(1, '[SSL: WRONG_VERSION_NUMBER] wrong version number (_ssl.c:2633)'),)\n",
      "WARNING:retry.api:('Connection aborted.', RemoteDisconnected('Remote end closed connection without response')), retrying in 1 seconds...\n",
      "WARNING:retry.api:('Connection aborted.', RemoteDisconnected('Remote end closed connection without response')), retrying in 1 seconds...\n",
      "WARNING:retry.api:('Connection aborted.', RemoteDisconnected('Remote end closed connection without response')), retrying in 1 seconds...\n",
      "WARNING:retry.api:('Connection aborted.', RemoteDisconnected('Remote end closed connection without response')), retrying in 1 seconds...\n",
      "WARNING:retry.api:('Connection aborted.', RemoteDisconnected('Remote end closed connection without response')), retrying in 1 seconds...\n",
      "WARNING:retry.api:('Connection aborted.', RemoteDisconnected('Remote end closed connection without response')), retrying in 1 seconds...\n",
      "WARNING:retry.api:('Connection aborted.', RemoteDisconnected('Remote end closed connection without response')), retrying in 1 seconds...\n",
      "WARNING:retry.api:('Connection aborted.', RemoteDisconnected('Remote end closed connection without response')), retrying in 1 seconds...\n",
      "WARNING:retry.api:('Connection aborted.', RemoteDisconnected('Remote end closed connection without response')), retrying in 1 seconds...\n",
      "WARNING:retry.api:('Connection aborted.', RemoteDisconnected('Remote end closed connection without response')), retrying in 1 seconds...\n",
      "WARNING:retry.api:('Connection aborted.', RemoteDisconnected('Remote end closed connection without response')), retrying in 1 seconds...\n",
      "WARNING:retry.api:('Connection aborted.', RemoteDisconnected('Remote end closed connection without response')), retrying in 1 seconds...\n",
      "WARNING:retry.api:('Connection aborted.', RemoteDisconnected('Remote end closed connection without response')), retrying in 1 seconds...\n",
      "WARNING:retry.api:('Connection aborted.', RemoteDisconnected('Remote end closed connection without response')), retrying in 1 seconds...\n",
      "WARNING:retry.api:('Connection aborted.', RemoteDisconnected('Remote end closed connection without response')), retrying in 1 seconds...\n",
      "WARNING:retry.api:('Connection aborted.', RemoteDisconnected('Remote end closed connection without response')), retrying in 1 seconds...\n",
      "WARNING:retry.api:('Connection aborted.', RemoteDisconnected('Remote end closed connection without response')), retrying in 1 seconds...\n",
      "WARNING:retry.api:('Connection aborted.', RemoteDisconnected('Remote end closed connection without response')), retrying in 1 seconds...\n",
      "WARNING:retry.api:('Connection aborted.', RemoteDisconnected('Remote end closed connection without response')), retrying in 1 seconds...\n",
      "WARNING:retry.api:('Connection aborted.', RemoteDisconnected('Remote end closed connection without response')), retrying in 1 seconds...\n",
      "WARNING:retry.api:('Connection aborted.', RemoteDisconnected('Remote end closed connection without response')), retrying in 1 seconds...\n",
      "WARNING:retry.api:('Connection aborted.', RemoteDisconnected('Remote end closed connection without response')), retrying in 1 seconds...\n",
      "WARNING:retry.api:('Connection aborted.', RemoteDisconnected('Remote end closed connection without response')), retrying in 1 seconds...\n"
     ]
    },
    {
     "name": "stdout",
     "output_type": "stream",
     "text": [
      "Done:  006\n",
      "Done:  019\n",
      "Done:  003\n",
      "Done:  013\n",
      "Done:  017\n",
      "Done:  012\n",
      "Done:  022\n",
      "Done:  021\n",
      "Done:  011\n",
      "Done:  025\n",
      "Done:  024\n",
      "Done:  008\n",
      "Done:  018\n",
      "Done: Done:   014001\n",
      "\n",
      "Done:  002\n",
      "Done:  010\n",
      "Done:  015\n",
      "Done:  004\n",
      "Done:  027\n",
      "Done:  026\n",
      "Done:  005\n",
      "Done:  032\n",
      "Done:  031\n",
      "Done:  030\n",
      "Done: Done:   020009\n",
      "\n",
      "Done:  029\n",
      "Done:  034\n",
      "Done:  028\n",
      "Done:  036\n",
      "Done:  039\n",
      "Done:  037\n",
      "Done:  038\n",
      "Done:  043\n",
      "Done:  041\n",
      "Done:  040\n",
      "Done:  035\n",
      "Done:  033\n",
      "Done:  050\n",
      "Done:  046\n",
      "Done:  045\n",
      "Done:  047\n",
      "Done: Done:   044055\n",
      "\n",
      "Done:  053\n",
      "Done:  054\n",
      "Done:  007\n",
      "Done:  049\n",
      "Done:  052\n",
      "Done:  058\n",
      "Done:  057\n",
      "Done:  062\n",
      "Done:  063\n",
      "Done:  016\n",
      "Done:  061\n",
      "Done:  066\n",
      "Done:  064\n",
      "Done:  059\n",
      "Done:  065\n",
      "Done:  070\n",
      "Done:  068\n",
      "Done:  073\n",
      "Done:  071\n",
      "Done:  048\n",
      "Done:  072\n",
      "Done:  077\n",
      "Done:  076\n",
      "Done:  075\n",
      "Done:  082\n",
      "Done:  079\n",
      "Done:  078\n",
      "Done:  000\n",
      "Done:  084\n",
      "Done:  080\n",
      "Done:  083Done: \n",
      " 085\n",
      "Done:  087\n",
      "Done:  056\n",
      "Done:  089\n",
      "Done:  060\n",
      "Done:  051\n",
      "Done:  091\n",
      "Done:  094\n",
      "Done:  042\n",
      "Done:  098\n",
      "Done:  099\n",
      "Done:  081\n",
      "Done:  074\n",
      "Done:  096\n",
      "Done:  093\n",
      "Done:  097\n",
      "Done:  067\n",
      "Done:  086\n",
      "Done:  090\n",
      "Done:  092\n",
      "Done:  088\n",
      "Done:  095\n",
      "Done:  023\n",
      "Done:  069\n",
      "CPU times: user 250 ms, sys: 231 ms, total: 481 ms\n",
      "Wall time: 17.4 s\n"
     ]
    }
   ],
   "source": [
    "%%time\n",
    "logging.basicConfig()\n",
    "items = getRequests()\n",
    "\n",
    "pool = multiprocessing.Pool(params['processes'])\n",
    "pool.starmap(getResult, enumerate(items))\n",
    "\n",
    "pool.close()           "
   ]
  },
  {
   "cell_type": "markdown",
   "id": "eac8abe6-85d2-477e-9001-fd0074673b64",
   "metadata": {},
   "source": [
    "### Retrieve sample points"
   ]
  },
  {
   "cell_type": "code",
   "execution_count": 39,
   "id": "c1b5bbed-95c7-43e1-9bae-7d683be862a1",
   "metadata": {},
   "outputs": [
    {
     "data": {
      "application/vnd.jupyter.widget-view+json": {
       "model_id": "1612b835da774588bc75ba2978889aca",
       "version_major": 2,
       "version_minor": 0
      },
      "text/plain": [
       "Map(center=[37.7555, -122.4415], controls=(WidgetControl(options=['position', 'transparent_bg'], widget=HBox(c…"
      ]
     },
     "metadata": {},
     "output_type": "display_data"
    }
   ],
   "source": [
    "Map.addLayer(Map.data, {}, \"Sample points\")\n",
    "Map"
   ]
  }
 ],
 "metadata": {
  "kernelspec": {
   "display_name": "Python 3",
   "language": "python",
   "name": "python3"
  },
  "language_info": {
   "codemirror_mode": {
    "name": "ipython",
    "version": 3
   },
   "file_extension": ".py",
   "mimetype": "text/x-python",
   "name": "python",
   "nbconvert_exporter": "python",
   "pygments_lexer": "ipython3",
   "version": "3.9.9"
  }
 },
 "nbformat": 4,
 "nbformat_minor": 5
}
