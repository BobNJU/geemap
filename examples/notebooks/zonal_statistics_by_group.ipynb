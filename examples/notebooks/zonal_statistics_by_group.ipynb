{
 "cells": [
  {
   "cell_type": "code",
   "execution_count": 1,
   "metadata": {},
   "outputs": [],
   "source": [
    "import ee\n",
    "import geemap\n",
    "import os"
   ]
  },
  {
   "cell_type": "markdown",
   "metadata": {},
   "source": [
    "## Analyzing National Land Cover Database (NLCD)"
   ]
  },
  {
   "cell_type": "code",
   "execution_count": 2,
   "metadata": {},
   "outputs": [
    {
     "data": {
      "application/vnd.jupyter.widget-view+json": {
       "model_id": "737065c97ea346cd821bcd3be283aa94",
       "version_major": 2,
       "version_minor": 0
      },
      "text/plain": [
       "Map(center=[40, -100], controls=(ZoomControl(options=['position', 'zoom_in_text', 'zoom_in_title', 'zoom_out_t…"
      ]
     },
     "metadata": {},
     "output_type": "display_data"
    }
   ],
   "source": [
    "Map = geemap.Map()\n",
    "Map"
   ]
  },
  {
   "cell_type": "markdown",
   "metadata": {},
   "source": [
    "### Add NLCD data"
   ]
  },
  {
   "cell_type": "code",
   "execution_count": 3,
   "metadata": {},
   "outputs": [],
   "source": [
    "dataset = ee.Image('USGS/NLCD/NLCD2016')\n",
    "landcover = ee.Image(dataset.select('landcover'))\n",
    "Map.addLayer(landcover, {}, 'NLCD 2016')\n",
    "\n",
    "states = ee.FeatureCollection(\"TIGER/2018/States\")\n",
    "Map.addLayer(states, {}, 'US States')"
   ]
  },
  {
   "cell_type": "code",
   "execution_count": 4,
   "metadata": {
    "scrolled": true
   },
   "outputs": [
    {
     "name": "stdout",
     "output_type": "stream",
     "text": [
      "['impervious_descriptor_class_values', 'landcover_class_names', 'system:time_end', 'system:id', 'landcover_class_values', 'system:time_start', 'impervious_descriptor_class_palette', 'system:footprint', 'impervious_descriptor_class_names', 'system:version', 'system:asset_size', 'landcover_class_palette', 'system:index', 'system:bands', 'system:band_names']\n"
     ]
    }
   ],
   "source": [
    "props = landcover.propertyNames().getInfo()\n",
    "print(props)"
   ]
  },
  {
   "cell_type": "code",
   "execution_count": 5,
   "metadata": {},
   "outputs": [
    {
     "name": "stdout",
     "output_type": "stream",
     "text": [
      "11: Open Water - All areas of open water, generally with less than 25% cover or vegetation or soil.\n",
      "\n",
      "12: Perennial Ice/Snow - All areas characterized by a perennial cover of ice and/or snow, generally greater than 25% of total cover.\n",
      "\n",
      "21: Developed, Open Space - Includes areas with a mixture of some constructed materials, but mostly vegetation in the form of lawn grasses.  Impervious surfaces account for less than 20 percent of total cover. These areas most commonly include large-lot single-family housing units, parks, golf courses, and vegetation planted in developed settings for recreation, erosion control, or aesthetic purposes.\n",
      "\n",
      "22: Developed, Low Intensity - Includes areas with a mixture of constructed materials and vegetation. Impervious surfaces account for 20-49 percent of total cover.  These areas most commonly include single-family housing units.\n",
      "\n",
      "23: Developed, Medium Intensity - Includes areas with a mixture of constructed materials and vegetation. Impervious surfaces account for 50-79 percent of the total cover.  These areas most commonly include single-family housing units.\n",
      "\n",
      "24: Developed, High Intensity - Includes highly developed areas where people reside or work in high numbers. Examples include apartment complexes, row houses and commercial/industrial.  Impervious surfaces account for 80 to 100 percent of the total cover.\n",
      "\n",
      "31: Barren Land (Rock/Sand/Clay) - Barren areas of bedrock, desert pavement, scarps, talus, slides, volcanic material, glacial debris, sand dunes, strip mines, gravel pits and other accumulations of earthen material. Generally, vegetation accounts for less than 15% of total cover.\n",
      "\n",
      "41: Deciduous Forest  - Areas dominated by trees generally greater than 5 meters tall, and greater than 20% of total vegetation cover. More than 75 percent of the tree species shed foliage simultaneously in response to seasonal change.\n",
      "\n",
      "42: Evergreen Forest - Areas dominated by trees generally greater than 5 meters tall, and greater than 20% of total vegetation cover. More than 75 percent of the tree species maintain their leaves all year. Canopy is never without green foliage.\n",
      "\n",
      "43: Mixed Forest - Areas dominated by trees generally greater than 5 meters tall, and greater than 20% of total vegetation cover. Neither deciduous nor evergreen species are greater than 75 percent of total tree cover.\n",
      "\n",
      "51: Dwarf Scrub - Alaska only areas dominated by shrubs less than 20 centimeters tall with shrub canopy typically greater than 20% of total vegetation. This type is often co-associated with grasses, sedges, herbs, and non-vascular vegetation tundra and may be periodically or seasonally wet and/or saturated with water. This type commonly occurs in alpine or tundra areas and may contain permafrost.\n",
      "\n",
      "52: Shrub/Scrub - Areas dominated by shrubs less than 5 meters tall with shrub canopy typically greater than 20% of total vegetation. This class includes true shrubs, young trees in an early successional stage or trees stunted from environmental conditions.\n",
      "\n",
      "71: Grassland/Herbaceous - Areas dominated by grammanoid or herbaceous vegetation, generally greater than 80% of total vegetation.  These areas are not subject to intensive management such as tilling, but can be utilized for grazing.\n",
      "\n",
      "72: Sedge/Herbaceous - Alaska only areas dominated by sedges and forbs, generally greater than 80% of total vegetation. This type can occur with significant other grasses or other grass like plants, and includes sedge tundra, and sedge tussock tundra and may be periodically or seasonally wet and/or saturated.  This type may contain permafrost.\n",
      "\n",
      "73: Lichens - Alaska only areas dominated by fruticose or foliose lichens generally greater than 80% of total vegetation.\n",
      "\n",
      "74: Moss - Alaska only areas dominated by mosses generally greater than 80% of total vegetation.\n",
      "\n",
      "81: Pasture/Hay - Areas of grasses, legumes, or grass-legume mixtures planted for livestock grazing or the production of seed or hay crops, typically on a perennial cycle. Pasture/hay vegetation accounts for greater than 20 percent of total vegetation.\n",
      "\n",
      "82: Cultivated Crops - Areas used for the production of annual crops, such as corn, soybeans, vegetables, tobacco, and cotton, and also perennial woody crops such as orchards and vineyards. Crop vegetation accounts for greater than 20 percent of total vegetation. This class also includes all land being actively tilled.\n",
      "\n",
      "90: Woody Wetlands - Areas where forest or shrub land vegetation accounts for greater than 20 percent of vegetative cover and the soil or substrate is persistently saturated with or covered with water.\n",
      "\n",
      "95: Emergent Herbaceous Wetlands - Areas where perennial herbaceous vegetation accounts for greater than 80 percent of vegetative cover and the soil or substrate is persistently saturated with or covered with water.\n",
      "\n"
     ]
    }
   ],
   "source": [
    "class_names = landcover.get('landcover_class_names').getInfo()\n",
    "class_values = landcover.get('landcover_class_values').getInfo()\n",
    "\n",
    "for index, class_name in enumerate(class_names):\n",
    "    print(\"{}: {}\\n\".format(class_values[index], class_name))"
   ]
  },
  {
   "cell_type": "markdown",
   "metadata": {},
   "source": [
    "### Calculate land cover compostion of each US state"
   ]
  },
  {
   "cell_type": "code",
   "execution_count": 6,
   "metadata": {},
   "outputs": [
    {
     "name": "stdout",
     "output_type": "stream",
     "text": [
      "Computing ... \n",
      "Generating URL ...\n",
      "Downloading data from https://earthengine.googleapis.com/api/table?docid=2e8ce10c1991f7b4ddcabc0ee92d4e82&token=3f712d84ac3f2303854f52a5efd6f98f\n",
      "Please wait ...\n",
      "Data downloaded to /home/qiusheng/Downloads/nlcd_stats.csv\n"
     ]
    }
   ],
   "source": [
    "out_dir = os.path.join(os.path.expanduser('~'), 'Downloads')\n",
    "nlcd_stats = os.path.join(out_dir, 'nlcd_stats.csv')  \n",
    "\n",
    "# statistics_type can be either 'SUM' or 'PERCENTAGE'\n",
    "# denominator can be used to convert square meters to other areal units, such as square kilimeters\n",
    "geemap.zonal_statistics_by_group(landcover, states, nlcd_stats, statistics_type='SUM', denominator=1000000, decimal_places=2)"
   ]
  },
  {
   "cell_type": "markdown",
   "metadata": {},
   "source": [
    "## Analyzing Global Land Cover"
   ]
  },
  {
   "cell_type": "code",
   "execution_count": 7,
   "metadata": {},
   "outputs": [
    {
     "data": {
      "application/vnd.jupyter.widget-view+json": {
       "model_id": "9c827c3f3b6640e2ac1443439bca0418",
       "version_major": 2,
       "version_minor": 0
      },
      "text/plain": [
       "Map(center=[40, -100], controls=(ZoomControl(options=['position', 'zoom_in_text', 'zoom_in_title', 'zoom_out_t…"
      ]
     },
     "metadata": {},
     "output_type": "display_data"
    }
   ],
   "source": [
    "Map = geemap.Map()\n",
    "Map"
   ]
  },
  {
   "cell_type": "markdown",
   "metadata": {},
   "source": [
    "### Add MODIS global land cover data\n",
    "\n",
    "MODIS MCD12Q1.051 Land Cover Type Yearly Global 500m \n",
    "\n",
    "https://developers.google.com/earth-engine/datasets/catalog/MODIS_051_MCD12Q1"
   ]
  },
  {
   "cell_type": "code",
   "execution_count": 8,
   "metadata": {},
   "outputs": [],
   "source": [
    "landcover = ee.Image('MODIS/051/MCD12Q1/2013_01_01') \\\n",
    "    .select('Land_Cover_Type_1')\n",
    "\n",
    "Map.setCenter(6.746, 46.529, 2)\n",
    "Map.addLayer(landcover, {}, 'MODIS Land Cover')"
   ]
  },
  {
   "cell_type": "code",
   "execution_count": 9,
   "metadata": {},
   "outputs": [
    {
     "name": "stdout",
     "output_type": "stream",
     "text": [
      "['Land_Cover_Type_4_class_names', 'Land_Cover_Type_5_class_names', 'Land_Cover_Type_1_class_palette', 'Land_Cover_Type_2_class_palette', 'Land_Cover_Type_2_class_values', 'Land_Cover_Type_3_class_names', 'system:time_end', 'Land_Cover_Type_4_class_values', 'Land_Cover_Type_1_class_names', 'Land_Cover_Type_3_class_values', 'system:id', 'Land_Cover_Type_3_class_palette', 'Land_Cover_Type_2_class_names', 'Land_Cover_Type_5_class_palette', 'Land_Cover_Type_5_class_values', 'system:time_start', 'Land_Cover_Type_4_class_palette', 'system:footprint', 'system:version', 'Land_Cover_Type_1_class_values', 'system:asset_size', 'system:index', 'system:bands', 'system:band_names']\n"
     ]
    }
   ],
   "source": [
    "props = landcover.propertyNames().getInfo()\n",
    "print(props)"
   ]
  },
  {
   "cell_type": "code",
   "execution_count": 10,
   "metadata": {},
   "outputs": [
    {
     "name": "stdout",
     "output_type": "stream",
     "text": [
      "0: Water\n",
      "1: Evergreen Needleleaf forest\n",
      "2: Evergreen Broadleaf forest\n",
      "3: Deciduous Needleleaf forest\n",
      "4: Deciduous Broadleaf forest\n",
      "5: Mixed forest\n",
      "6: Closed shrublands\n",
      "7: Open shrublands\n",
      "8: Woody savannas\n",
      "9: Savannas\n",
      "10: Grasslands\n",
      "11: Permanent wetlands\n",
      "12: Croplands\n",
      "13: Urban and built-up\n",
      "14: Cropland/Natural vegetation mosaic\n",
      "15: Snow and ice\n",
      "16: Barren or sparsely vegetated\n",
      "254: Unclassified\n"
     ]
    }
   ],
   "source": [
    "class_names = landcover.get('Land_Cover_Type_1_class_names').getInfo()\n",
    "class_values = landcover.get('Land_Cover_Type_1_class_values').getInfo()\n",
    "\n",
    "for index, class_name in enumerate(class_names):\n",
    "    print(\"{}: {}\".format(class_values[index], class_name))"
   ]
  },
  {
   "cell_type": "code",
   "execution_count": 11,
   "metadata": {},
   "outputs": [],
   "source": [
    "countries_shp = '../data/countries.shp'\n",
    "countries = geemap.shp_to_ee(countries_shp)\n",
    "Map.addLayer(countries, {}, 'Countries')"
   ]
  },
  {
   "cell_type": "code",
   "execution_count": 12,
   "metadata": {},
   "outputs": [
    {
     "name": "stdout",
     "output_type": "stream",
     "text": [
      "Computing ... \n",
      "Generating URL ...\n",
      "Downloading data from https://earthengine.googleapis.com/api/table?docid=252f3a57338e02e4b507bc9eb8f9a0e7&token=8be655ae3be02025199c2e5a9f3cbb80\n",
      "Please wait ...\n",
      "Data downloaded to /home/qiusheng/Downloads/global_stats.csv\n"
     ]
    }
   ],
   "source": [
    "out_dir = os.path.join(os.path.expanduser('~'), 'Downloads')\n",
    "global_stats = os.path.join(out_dir, 'global_stats.csv')  \n",
    "\n",
    "# statistics_type can be either 'SUM' or 'PERCENTAGE'\n",
    "# denominator can be used to convert square meters to other areal units, such as square kilimeters\n",
    "geemap.zonal_statistics_by_group(landcover, countries, global_stats, statistics_type='PERCENTAGE', denominator=1000000, decimal_places=2)"
   ]
  },
  {
   "cell_type": "code",
   "execution_count": null,
   "metadata": {},
   "outputs": [],
   "source": []
  }
 ],
 "metadata": {
  "kernelspec": {
   "display_name": "Python 3",
   "language": "python",
   "name": "python3"
  },
  "language_info": {
   "codemirror_mode": {
    "name": "ipython",
    "version": 3
   },
   "file_extension": ".py",
   "mimetype": "text/x-python",
   "name": "python",
   "nbconvert_exporter": "python",
   "pygments_lexer": "ipython3",
   "version": "3.8.2"
  }
 },
 "nbformat": 4,
 "nbformat_minor": 4
}
