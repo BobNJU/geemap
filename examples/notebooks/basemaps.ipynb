{
 "cells": [
  {
   "cell_type": "code",
   "execution_count": null,
   "metadata": {},
   "outputs": [],
   "source": [
    "import geemap\n",
    "from ipyleaflet import WidgetControl\n",
    "from ipywidgets import Dropdown"
   ]
  },
  {
   "cell_type": "code",
   "execution_count": null,
   "metadata": {},
   "outputs": [],
   "source": [
    "Map = geemap.Map()\n",
    "\n",
    "ee_basemaps = geemap.ee_basemaps\n",
    "\n",
    "dropdown = Dropdown(\n",
    "    options=list(ee_basemaps.keys()),\n",
    "    value='HYBRID',\n",
    "    description='Basemaps'\n",
    ")\n",
    "\n",
    "def on_click(change):\n",
    "    basemap_name = change['new']\n",
    "    old_basemap = Map.layers[-1]\n",
    "    Map.substitute_layer(old_basemap, ee_basemaps[basemap_name])\n",
    "    \n",
    "dropdown.observe(on_click, 'value')\n",
    "\n",
    "basemap_control = WidgetControl(widget=dropdown, position='topright')\n",
    "\n",
    "Map.remove_control(Map.inspector_control)\n",
    "Map.remove_control(Map.layer_control)\n",
    "\n",
    "Map.add_control(basemap_control)\n",
    "\n",
    "Map"
   ]
  },
  {
   "cell_type": "code",
   "execution_count": null,
   "metadata": {},
   "outputs": [],
   "source": [
    "import geemap\n",
    "m = geemap.Map()\n",
    "m.basemap_demo()\n",
    "m"
   ]
  }
 ],
 "metadata": {
  "kernelspec": {
   "display_name": "Python 3",
   "language": "python",
   "name": "python3"
  },
  "language_info": {
   "codemirror_mode": {
    "name": "ipython",
    "version": 3
   },
   "file_extension": ".py",
   "mimetype": "text/x-python",
   "name": "python",
   "nbconvert_exporter": "python",
   "pygments_lexer": "ipython3",
   "version": "3.8.2"
  }
 },
 "nbformat": 4,
 "nbformat_minor": 4
}
